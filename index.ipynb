{
 "cells": [
  {
   "cell_type": "markdown",
   "metadata": {},
   "source": [
    "# Integrating PCA in Pipelines - Lab"
   ]
  },
  {
   "cell_type": "markdown",
   "metadata": {},
   "source": [
    "## Introduction"
   ]
  },
  {
   "cell_type": "markdown",
   "metadata": {},
   "source": [
    "In a previous section, you learned about how to use pipelines in scikit-learn to combine several supervised learning algorithms in a manageable pipeline. In this lesson, you will integrate PCA along with classifiers in the pipeline. "
   ]
  },
  {
   "cell_type": "markdown",
   "metadata": {},
   "source": [
    "## Objectives\n",
    "\n",
    "In this lab you will: \n",
    "\n",
    "- Integrate PCA in scikit-learn pipelines "
   ]
  },
  {
   "cell_type": "markdown",
   "metadata": {},
   "source": [
    "## The Data Science Workflow"
   ]
  },
  {
   "cell_type": "markdown",
   "metadata": {},
   "source": [
    "You will be following the data science workflow:\n",
    "\n",
    "1. Initial data inspection, exploratory data analysis, and cleaning\n",
    "2. Feature engineering and selection\n",
    "3. Create a baseline model\n",
    "4. Create a machine learning pipeline and compare results with the baseline model\n",
    "5. Interpret the model and draw conclusions"
   ]
  },
  {
   "cell_type": "markdown",
   "metadata": {},
   "source": [
    "##  Initial data inspection, exploratory data analysis, and cleaning"
   ]
  },
  {
   "cell_type": "markdown",
   "metadata": {},
   "source": [
    "You'll use a dataset created by the Otto group, which was also used in a [Kaggle competition](https://www.kaggle.com/c/otto-group-product-classification-challenge/data). The description of the dataset is as follows:\n",
    "\n",
    "The Otto Group is one of the world’s biggest e-commerce companies, with subsidiaries in more than 20 countries, including Crate & Barrel (USA), Otto.de (Germany) and 3 Suisses (France). They are selling millions of products worldwide every day, with several thousand products being added to their product line.\n",
    "\n",
    "A consistent analysis of the performance of their products is crucial. However, due to their global infrastructure, many identical products get classified differently. Therefore, the quality of product analysis depends heavily on the ability to accurately cluster similar products. The better the classification, the more insights the Otto Group can generate about their product range.\n",
    "\n",
    "In this lab, you'll use a dataset containing:\n",
    "- A column `id`, which is an anonymous id unique to a product\n",
    "- 93 columns `feat_1`, `feat_2`, ..., `feat_93`, which are the various features of a product\n",
    "- a column `target` - the class of a product\n",
    "\n",
    "\n",
    "\n",
    "The dataset is stored in the `'otto_group.csv'` file. Import this file into a DataFrame called `data`, and then: \n",
    "\n",
    "- Check for missing values \n",
    "- Check the distribution of columns \n",
    "- ... and any other things that come to your mind to explore the data "
   ]
  },
  {
   "cell_type": "code",
   "execution_count": 12,
   "metadata": {
    "ExecuteTime": {
     "end_time": "2020-10-14T03:15:57.529871Z",
     "start_time": "2020-10-14T03:15:57.523708Z"
    }
   },
   "outputs": [],
   "source": [
    "# Your code here\n",
    "import pandas as pd\n",
    "import numpy as np\n",
    "import matplotlib.pyplot as plt"
   ]
  },
  {
   "cell_type": "code",
   "execution_count": 15,
   "metadata": {
    "ExecuteTime": {
     "end_time": "2020-10-14T03:17:12.173033Z",
     "start_time": "2020-10-14T03:17:11.936003Z"
    }
   },
   "outputs": [
    {
     "data": {
      "text/html": [
       "<div>\n",
       "<style scoped>\n",
       "    .dataframe tbody tr th:only-of-type {\n",
       "        vertical-align: middle;\n",
       "    }\n",
       "\n",
       "    .dataframe tbody tr th {\n",
       "        vertical-align: top;\n",
       "    }\n",
       "\n",
       "    .dataframe thead th {\n",
       "        text-align: right;\n",
       "    }\n",
       "</style>\n",
       "<table border=\"1\" class=\"dataframe\">\n",
       "  <thead>\n",
       "    <tr style=\"text-align: right;\">\n",
       "      <th></th>\n",
       "      <th>id</th>\n",
       "      <th>feat_1</th>\n",
       "      <th>feat_2</th>\n",
       "      <th>feat_3</th>\n",
       "      <th>feat_4</th>\n",
       "      <th>feat_5</th>\n",
       "      <th>feat_6</th>\n",
       "      <th>feat_7</th>\n",
       "      <th>feat_8</th>\n",
       "      <th>feat_9</th>\n",
       "      <th>...</th>\n",
       "      <th>feat_85</th>\n",
       "      <th>feat_86</th>\n",
       "      <th>feat_87</th>\n",
       "      <th>feat_88</th>\n",
       "      <th>feat_89</th>\n",
       "      <th>feat_90</th>\n",
       "      <th>feat_91</th>\n",
       "      <th>feat_92</th>\n",
       "      <th>feat_93</th>\n",
       "      <th>target</th>\n",
       "    </tr>\n",
       "  </thead>\n",
       "  <tbody>\n",
       "    <tr>\n",
       "      <td>0</td>\n",
       "      <td>1</td>\n",
       "      <td>1</td>\n",
       "      <td>0</td>\n",
       "      <td>0</td>\n",
       "      <td>0</td>\n",
       "      <td>0</td>\n",
       "      <td>0</td>\n",
       "      <td>0</td>\n",
       "      <td>0</td>\n",
       "      <td>0</td>\n",
       "      <td>...</td>\n",
       "      <td>1</td>\n",
       "      <td>0</td>\n",
       "      <td>0</td>\n",
       "      <td>0</td>\n",
       "      <td>0</td>\n",
       "      <td>0</td>\n",
       "      <td>0</td>\n",
       "      <td>0</td>\n",
       "      <td>0</td>\n",
       "      <td>Class_1</td>\n",
       "    </tr>\n",
       "    <tr>\n",
       "      <td>1</td>\n",
       "      <td>2</td>\n",
       "      <td>0</td>\n",
       "      <td>0</td>\n",
       "      <td>0</td>\n",
       "      <td>0</td>\n",
       "      <td>0</td>\n",
       "      <td>0</td>\n",
       "      <td>0</td>\n",
       "      <td>1</td>\n",
       "      <td>0</td>\n",
       "      <td>...</td>\n",
       "      <td>0</td>\n",
       "      <td>0</td>\n",
       "      <td>0</td>\n",
       "      <td>0</td>\n",
       "      <td>0</td>\n",
       "      <td>0</td>\n",
       "      <td>0</td>\n",
       "      <td>0</td>\n",
       "      <td>0</td>\n",
       "      <td>Class_1</td>\n",
       "    </tr>\n",
       "    <tr>\n",
       "      <td>2</td>\n",
       "      <td>3</td>\n",
       "      <td>0</td>\n",
       "      <td>0</td>\n",
       "      <td>0</td>\n",
       "      <td>0</td>\n",
       "      <td>0</td>\n",
       "      <td>0</td>\n",
       "      <td>0</td>\n",
       "      <td>1</td>\n",
       "      <td>0</td>\n",
       "      <td>...</td>\n",
       "      <td>0</td>\n",
       "      <td>0</td>\n",
       "      <td>0</td>\n",
       "      <td>0</td>\n",
       "      <td>0</td>\n",
       "      <td>0</td>\n",
       "      <td>0</td>\n",
       "      <td>0</td>\n",
       "      <td>0</td>\n",
       "      <td>Class_1</td>\n",
       "    </tr>\n",
       "    <tr>\n",
       "      <td>3</td>\n",
       "      <td>4</td>\n",
       "      <td>1</td>\n",
       "      <td>0</td>\n",
       "      <td>0</td>\n",
       "      <td>1</td>\n",
       "      <td>6</td>\n",
       "      <td>1</td>\n",
       "      <td>5</td>\n",
       "      <td>0</td>\n",
       "      <td>0</td>\n",
       "      <td>...</td>\n",
       "      <td>0</td>\n",
       "      <td>1</td>\n",
       "      <td>2</td>\n",
       "      <td>0</td>\n",
       "      <td>0</td>\n",
       "      <td>0</td>\n",
       "      <td>0</td>\n",
       "      <td>0</td>\n",
       "      <td>0</td>\n",
       "      <td>Class_1</td>\n",
       "    </tr>\n",
       "    <tr>\n",
       "      <td>4</td>\n",
       "      <td>5</td>\n",
       "      <td>0</td>\n",
       "      <td>0</td>\n",
       "      <td>0</td>\n",
       "      <td>0</td>\n",
       "      <td>0</td>\n",
       "      <td>0</td>\n",
       "      <td>0</td>\n",
       "      <td>0</td>\n",
       "      <td>0</td>\n",
       "      <td>...</td>\n",
       "      <td>1</td>\n",
       "      <td>0</td>\n",
       "      <td>0</td>\n",
       "      <td>0</td>\n",
       "      <td>0</td>\n",
       "      <td>1</td>\n",
       "      <td>0</td>\n",
       "      <td>0</td>\n",
       "      <td>0</td>\n",
       "      <td>Class_1</td>\n",
       "    </tr>\n",
       "  </tbody>\n",
       "</table>\n",
       "<p>5 rows × 95 columns</p>\n",
       "</div>"
      ],
      "text/plain": [
       "   id  feat_1  feat_2  feat_3  feat_4  feat_5  feat_6  feat_7  feat_8  feat_9  \\\n",
       "0   1       1       0       0       0       0       0       0       0       0   \n",
       "1   2       0       0       0       0       0       0       0       1       0   \n",
       "2   3       0       0       0       0       0       0       0       1       0   \n",
       "3   4       1       0       0       1       6       1       5       0       0   \n",
       "4   5       0       0       0       0       0       0       0       0       0   \n",
       "\n",
       "   ...  feat_85  feat_86  feat_87  feat_88  feat_89  feat_90  feat_91  \\\n",
       "0  ...        1        0        0        0        0        0        0   \n",
       "1  ...        0        0        0        0        0        0        0   \n",
       "2  ...        0        0        0        0        0        0        0   \n",
       "3  ...        0        1        2        0        0        0        0   \n",
       "4  ...        1        0        0        0        0        1        0   \n",
       "\n",
       "   feat_92  feat_93   target  \n",
       "0        0        0  Class_1  \n",
       "1        0        0  Class_1  \n",
       "2        0        0  Class_1  \n",
       "3        0        0  Class_1  \n",
       "4        0        0  Class_1  \n",
       "\n",
       "[5 rows x 95 columns]"
      ]
     },
     "execution_count": 15,
     "metadata": {},
     "output_type": "execute_result"
    }
   ],
   "source": [
    "# Your code here\n",
    "data = pd.read_csv('otto_group.csv')\n",
    "data.head()"
   ]
  },
  {
   "cell_type": "code",
   "execution_count": 36,
   "metadata": {
    "ExecuteTime": {
     "end_time": "2020-10-14T03:52:17.198972Z",
     "start_time": "2020-10-14T03:52:17.172973Z"
    }
   },
   "outputs": [
    {
     "data": {
      "text/plain": [
       "0"
      ]
     },
     "execution_count": 36,
     "metadata": {},
     "output_type": "execute_result"
    }
   ],
   "source": [
    "# Your code here\n",
    "data.isna().sum().sum()"
   ]
  },
  {
   "cell_type": "code",
   "execution_count": 17,
   "metadata": {
    "ExecuteTime": {
     "end_time": "2020-10-14T03:42:34.205798Z",
     "start_time": "2020-10-14T03:42:33.919785Z"
    }
   },
   "outputs": [
    {
     "data": {
      "text/html": [
       "<div>\n",
       "<style scoped>\n",
       "    .dataframe tbody tr th:only-of-type {\n",
       "        vertical-align: middle;\n",
       "    }\n",
       "\n",
       "    .dataframe tbody tr th {\n",
       "        vertical-align: top;\n",
       "    }\n",
       "\n",
       "    .dataframe thead th {\n",
       "        text-align: right;\n",
       "    }\n",
       "</style>\n",
       "<table border=\"1\" class=\"dataframe\">\n",
       "  <thead>\n",
       "    <tr style=\"text-align: right;\">\n",
       "      <th></th>\n",
       "      <th>id</th>\n",
       "      <th>feat_1</th>\n",
       "      <th>feat_2</th>\n",
       "      <th>feat_3</th>\n",
       "      <th>feat_4</th>\n",
       "      <th>feat_5</th>\n",
       "      <th>feat_6</th>\n",
       "      <th>feat_7</th>\n",
       "      <th>feat_8</th>\n",
       "      <th>feat_9</th>\n",
       "      <th>...</th>\n",
       "      <th>feat_84</th>\n",
       "      <th>feat_85</th>\n",
       "      <th>feat_86</th>\n",
       "      <th>feat_87</th>\n",
       "      <th>feat_88</th>\n",
       "      <th>feat_89</th>\n",
       "      <th>feat_90</th>\n",
       "      <th>feat_91</th>\n",
       "      <th>feat_92</th>\n",
       "      <th>feat_93</th>\n",
       "    </tr>\n",
       "  </thead>\n",
       "  <tbody>\n",
       "    <tr>\n",
       "      <td>count</td>\n",
       "      <td>61878.000000</td>\n",
       "      <td>61878.00000</td>\n",
       "      <td>61878.000000</td>\n",
       "      <td>61878.000000</td>\n",
       "      <td>61878.000000</td>\n",
       "      <td>61878.000000</td>\n",
       "      <td>61878.000000</td>\n",
       "      <td>61878.000000</td>\n",
       "      <td>61878.000000</td>\n",
       "      <td>61878.000000</td>\n",
       "      <td>...</td>\n",
       "      <td>61878.000000</td>\n",
       "      <td>61878.000000</td>\n",
       "      <td>61878.000000</td>\n",
       "      <td>61878.000000</td>\n",
       "      <td>61878.000000</td>\n",
       "      <td>61878.000000</td>\n",
       "      <td>61878.000000</td>\n",
       "      <td>61878.000000</td>\n",
       "      <td>61878.000000</td>\n",
       "      <td>61878.000000</td>\n",
       "    </tr>\n",
       "    <tr>\n",
       "      <td>mean</td>\n",
       "      <td>30939.500000</td>\n",
       "      <td>0.38668</td>\n",
       "      <td>0.263066</td>\n",
       "      <td>0.901467</td>\n",
       "      <td>0.779081</td>\n",
       "      <td>0.071043</td>\n",
       "      <td>0.025696</td>\n",
       "      <td>0.193704</td>\n",
       "      <td>0.662433</td>\n",
       "      <td>1.011296</td>\n",
       "      <td>...</td>\n",
       "      <td>0.070752</td>\n",
       "      <td>0.532306</td>\n",
       "      <td>1.128576</td>\n",
       "      <td>0.393549</td>\n",
       "      <td>0.874915</td>\n",
       "      <td>0.457772</td>\n",
       "      <td>0.812421</td>\n",
       "      <td>0.264941</td>\n",
       "      <td>0.380119</td>\n",
       "      <td>0.126135</td>\n",
       "    </tr>\n",
       "    <tr>\n",
       "      <td>std</td>\n",
       "      <td>17862.784315</td>\n",
       "      <td>1.52533</td>\n",
       "      <td>1.252073</td>\n",
       "      <td>2.934818</td>\n",
       "      <td>2.788005</td>\n",
       "      <td>0.438902</td>\n",
       "      <td>0.215333</td>\n",
       "      <td>1.030102</td>\n",
       "      <td>2.255770</td>\n",
       "      <td>3.474822</td>\n",
       "      <td>...</td>\n",
       "      <td>1.151460</td>\n",
       "      <td>1.900438</td>\n",
       "      <td>2.681554</td>\n",
       "      <td>1.575455</td>\n",
       "      <td>2.115466</td>\n",
       "      <td>1.527385</td>\n",
       "      <td>4.597804</td>\n",
       "      <td>2.045646</td>\n",
       "      <td>0.982385</td>\n",
       "      <td>1.201720</td>\n",
       "    </tr>\n",
       "    <tr>\n",
       "      <td>min</td>\n",
       "      <td>1.000000</td>\n",
       "      <td>0.00000</td>\n",
       "      <td>0.000000</td>\n",
       "      <td>0.000000</td>\n",
       "      <td>0.000000</td>\n",
       "      <td>0.000000</td>\n",
       "      <td>0.000000</td>\n",
       "      <td>0.000000</td>\n",
       "      <td>0.000000</td>\n",
       "      <td>0.000000</td>\n",
       "      <td>...</td>\n",
       "      <td>0.000000</td>\n",
       "      <td>0.000000</td>\n",
       "      <td>0.000000</td>\n",
       "      <td>0.000000</td>\n",
       "      <td>0.000000</td>\n",
       "      <td>0.000000</td>\n",
       "      <td>0.000000</td>\n",
       "      <td>0.000000</td>\n",
       "      <td>0.000000</td>\n",
       "      <td>0.000000</td>\n",
       "    </tr>\n",
       "    <tr>\n",
       "      <td>25%</td>\n",
       "      <td>15470.250000</td>\n",
       "      <td>0.00000</td>\n",
       "      <td>0.000000</td>\n",
       "      <td>0.000000</td>\n",
       "      <td>0.000000</td>\n",
       "      <td>0.000000</td>\n",
       "      <td>0.000000</td>\n",
       "      <td>0.000000</td>\n",
       "      <td>0.000000</td>\n",
       "      <td>0.000000</td>\n",
       "      <td>...</td>\n",
       "      <td>0.000000</td>\n",
       "      <td>0.000000</td>\n",
       "      <td>0.000000</td>\n",
       "      <td>0.000000</td>\n",
       "      <td>0.000000</td>\n",
       "      <td>0.000000</td>\n",
       "      <td>0.000000</td>\n",
       "      <td>0.000000</td>\n",
       "      <td>0.000000</td>\n",
       "      <td>0.000000</td>\n",
       "    </tr>\n",
       "    <tr>\n",
       "      <td>50%</td>\n",
       "      <td>30939.500000</td>\n",
       "      <td>0.00000</td>\n",
       "      <td>0.000000</td>\n",
       "      <td>0.000000</td>\n",
       "      <td>0.000000</td>\n",
       "      <td>0.000000</td>\n",
       "      <td>0.000000</td>\n",
       "      <td>0.000000</td>\n",
       "      <td>0.000000</td>\n",
       "      <td>0.000000</td>\n",
       "      <td>...</td>\n",
       "      <td>0.000000</td>\n",
       "      <td>0.000000</td>\n",
       "      <td>0.000000</td>\n",
       "      <td>0.000000</td>\n",
       "      <td>0.000000</td>\n",
       "      <td>0.000000</td>\n",
       "      <td>0.000000</td>\n",
       "      <td>0.000000</td>\n",
       "      <td>0.000000</td>\n",
       "      <td>0.000000</td>\n",
       "    </tr>\n",
       "    <tr>\n",
       "      <td>75%</td>\n",
       "      <td>46408.750000</td>\n",
       "      <td>0.00000</td>\n",
       "      <td>0.000000</td>\n",
       "      <td>0.000000</td>\n",
       "      <td>0.000000</td>\n",
       "      <td>0.000000</td>\n",
       "      <td>0.000000</td>\n",
       "      <td>0.000000</td>\n",
       "      <td>1.000000</td>\n",
       "      <td>0.000000</td>\n",
       "      <td>...</td>\n",
       "      <td>0.000000</td>\n",
       "      <td>0.000000</td>\n",
       "      <td>1.000000</td>\n",
       "      <td>0.000000</td>\n",
       "      <td>1.000000</td>\n",
       "      <td>0.000000</td>\n",
       "      <td>0.000000</td>\n",
       "      <td>0.000000</td>\n",
       "      <td>0.000000</td>\n",
       "      <td>0.000000</td>\n",
       "    </tr>\n",
       "    <tr>\n",
       "      <td>max</td>\n",
       "      <td>61878.000000</td>\n",
       "      <td>61.00000</td>\n",
       "      <td>51.000000</td>\n",
       "      <td>64.000000</td>\n",
       "      <td>70.000000</td>\n",
       "      <td>19.000000</td>\n",
       "      <td>10.000000</td>\n",
       "      <td>38.000000</td>\n",
       "      <td>76.000000</td>\n",
       "      <td>43.000000</td>\n",
       "      <td>...</td>\n",
       "      <td>76.000000</td>\n",
       "      <td>55.000000</td>\n",
       "      <td>65.000000</td>\n",
       "      <td>67.000000</td>\n",
       "      <td>30.000000</td>\n",
       "      <td>61.000000</td>\n",
       "      <td>130.000000</td>\n",
       "      <td>52.000000</td>\n",
       "      <td>19.000000</td>\n",
       "      <td>87.000000</td>\n",
       "    </tr>\n",
       "  </tbody>\n",
       "</table>\n",
       "<p>8 rows × 94 columns</p>\n",
       "</div>"
      ],
      "text/plain": [
       "                 id       feat_1        feat_2        feat_3        feat_4  \\\n",
       "count  61878.000000  61878.00000  61878.000000  61878.000000  61878.000000   \n",
       "mean   30939.500000      0.38668      0.263066      0.901467      0.779081   \n",
       "std    17862.784315      1.52533      1.252073      2.934818      2.788005   \n",
       "min        1.000000      0.00000      0.000000      0.000000      0.000000   \n",
       "25%    15470.250000      0.00000      0.000000      0.000000      0.000000   \n",
       "50%    30939.500000      0.00000      0.000000      0.000000      0.000000   \n",
       "75%    46408.750000      0.00000      0.000000      0.000000      0.000000   \n",
       "max    61878.000000     61.00000     51.000000     64.000000     70.000000   \n",
       "\n",
       "             feat_5        feat_6        feat_7        feat_8        feat_9  \\\n",
       "count  61878.000000  61878.000000  61878.000000  61878.000000  61878.000000   \n",
       "mean       0.071043      0.025696      0.193704      0.662433      1.011296   \n",
       "std        0.438902      0.215333      1.030102      2.255770      3.474822   \n",
       "min        0.000000      0.000000      0.000000      0.000000      0.000000   \n",
       "25%        0.000000      0.000000      0.000000      0.000000      0.000000   \n",
       "50%        0.000000      0.000000      0.000000      0.000000      0.000000   \n",
       "75%        0.000000      0.000000      0.000000      1.000000      0.000000   \n",
       "max       19.000000     10.000000     38.000000     76.000000     43.000000   \n",
       "\n",
       "       ...       feat_84       feat_85       feat_86       feat_87  \\\n",
       "count  ...  61878.000000  61878.000000  61878.000000  61878.000000   \n",
       "mean   ...      0.070752      0.532306      1.128576      0.393549   \n",
       "std    ...      1.151460      1.900438      2.681554      1.575455   \n",
       "min    ...      0.000000      0.000000      0.000000      0.000000   \n",
       "25%    ...      0.000000      0.000000      0.000000      0.000000   \n",
       "50%    ...      0.000000      0.000000      0.000000      0.000000   \n",
       "75%    ...      0.000000      0.000000      1.000000      0.000000   \n",
       "max    ...     76.000000     55.000000     65.000000     67.000000   \n",
       "\n",
       "            feat_88       feat_89       feat_90       feat_91       feat_92  \\\n",
       "count  61878.000000  61878.000000  61878.000000  61878.000000  61878.000000   \n",
       "mean       0.874915      0.457772      0.812421      0.264941      0.380119   \n",
       "std        2.115466      1.527385      4.597804      2.045646      0.982385   \n",
       "min        0.000000      0.000000      0.000000      0.000000      0.000000   \n",
       "25%        0.000000      0.000000      0.000000      0.000000      0.000000   \n",
       "50%        0.000000      0.000000      0.000000      0.000000      0.000000   \n",
       "75%        1.000000      0.000000      0.000000      0.000000      0.000000   \n",
       "max       30.000000     61.000000    130.000000     52.000000     19.000000   \n",
       "\n",
       "            feat_93  \n",
       "count  61878.000000  \n",
       "mean       0.126135  \n",
       "std        1.201720  \n",
       "min        0.000000  \n",
       "25%        0.000000  \n",
       "50%        0.000000  \n",
       "75%        0.000000  \n",
       "max       87.000000  \n",
       "\n",
       "[8 rows x 94 columns]"
      ]
     },
     "execution_count": 17,
     "metadata": {},
     "output_type": "execute_result"
    }
   ],
   "source": [
    "# Your code here\n",
    "data.describe()"
   ]
  },
  {
   "cell_type": "code",
   "execution_count": 18,
   "metadata": {
    "ExecuteTime": {
     "end_time": "2020-10-14T03:43:15.027362Z",
     "start_time": "2020-10-14T03:43:14.982362Z"
    }
   },
   "outputs": [
    {
     "name": "stdout",
     "output_type": "stream",
     "text": [
      "<class 'pandas.core.frame.DataFrame'>\n",
      "RangeIndex: 61878 entries, 0 to 61877\n",
      "Data columns (total 95 columns):\n",
      "id         61878 non-null int64\n",
      "feat_1     61878 non-null int64\n",
      "feat_2     61878 non-null int64\n",
      "feat_3     61878 non-null int64\n",
      "feat_4     61878 non-null int64\n",
      "feat_5     61878 non-null int64\n",
      "feat_6     61878 non-null int64\n",
      "feat_7     61878 non-null int64\n",
      "feat_8     61878 non-null int64\n",
      "feat_9     61878 non-null int64\n",
      "feat_10    61878 non-null int64\n",
      "feat_11    61878 non-null int64\n",
      "feat_12    61878 non-null int64\n",
      "feat_13    61878 non-null int64\n",
      "feat_14    61878 non-null int64\n",
      "feat_15    61878 non-null int64\n",
      "feat_16    61878 non-null int64\n",
      "feat_17    61878 non-null int64\n",
      "feat_18    61878 non-null int64\n",
      "feat_19    61878 non-null int64\n",
      "feat_20    61878 non-null int64\n",
      "feat_21    61878 non-null int64\n",
      "feat_22    61878 non-null int64\n",
      "feat_23    61878 non-null int64\n",
      "feat_24    61878 non-null int64\n",
      "feat_25    61878 non-null int64\n",
      "feat_26    61878 non-null int64\n",
      "feat_27    61878 non-null int64\n",
      "feat_28    61878 non-null int64\n",
      "feat_29    61878 non-null int64\n",
      "feat_30    61878 non-null int64\n",
      "feat_31    61878 non-null int64\n",
      "feat_32    61878 non-null int64\n",
      "feat_33    61878 non-null int64\n",
      "feat_34    61878 non-null int64\n",
      "feat_35    61878 non-null int64\n",
      "feat_36    61878 non-null int64\n",
      "feat_37    61878 non-null int64\n",
      "feat_38    61878 non-null int64\n",
      "feat_39    61878 non-null int64\n",
      "feat_40    61878 non-null int64\n",
      "feat_41    61878 non-null int64\n",
      "feat_42    61878 non-null int64\n",
      "feat_43    61878 non-null int64\n",
      "feat_44    61878 non-null int64\n",
      "feat_45    61878 non-null int64\n",
      "feat_46    61878 non-null int64\n",
      "feat_47    61878 non-null int64\n",
      "feat_48    61878 non-null int64\n",
      "feat_49    61878 non-null int64\n",
      "feat_50    61878 non-null int64\n",
      "feat_51    61878 non-null int64\n",
      "feat_52    61878 non-null int64\n",
      "feat_53    61878 non-null int64\n",
      "feat_54    61878 non-null int64\n",
      "feat_55    61878 non-null int64\n",
      "feat_56    61878 non-null int64\n",
      "feat_57    61878 non-null int64\n",
      "feat_58    61878 non-null int64\n",
      "feat_59    61878 non-null int64\n",
      "feat_60    61878 non-null int64\n",
      "feat_61    61878 non-null int64\n",
      "feat_62    61878 non-null int64\n",
      "feat_63    61878 non-null int64\n",
      "feat_64    61878 non-null int64\n",
      "feat_65    61878 non-null int64\n",
      "feat_66    61878 non-null int64\n",
      "feat_67    61878 non-null int64\n",
      "feat_68    61878 non-null int64\n",
      "feat_69    61878 non-null int64\n",
      "feat_70    61878 non-null int64\n",
      "feat_71    61878 non-null int64\n",
      "feat_72    61878 non-null int64\n",
      "feat_73    61878 non-null int64\n",
      "feat_74    61878 non-null int64\n",
      "feat_75    61878 non-null int64\n",
      "feat_76    61878 non-null int64\n",
      "feat_77    61878 non-null int64\n",
      "feat_78    61878 non-null int64\n",
      "feat_79    61878 non-null int64\n",
      "feat_80    61878 non-null int64\n",
      "feat_81    61878 non-null int64\n",
      "feat_82    61878 non-null int64\n",
      "feat_83    61878 non-null int64\n",
      "feat_84    61878 non-null int64\n",
      "feat_85    61878 non-null int64\n",
      "feat_86    61878 non-null int64\n",
      "feat_87    61878 non-null int64\n",
      "feat_88    61878 non-null int64\n",
      "feat_89    61878 non-null int64\n",
      "feat_90    61878 non-null int64\n",
      "feat_91    61878 non-null int64\n",
      "feat_92    61878 non-null int64\n",
      "feat_93    61878 non-null int64\n",
      "target     61878 non-null object\n",
      "dtypes: int64(94), object(1)\n",
      "memory usage: 44.8+ MB\n"
     ]
    }
   ],
   "source": [
    "data.info()"
   ]
  },
  {
   "cell_type": "markdown",
   "metadata": {},
   "source": [
    "If you look at all the histograms, you can tell that a lot of the data are zero-inflated, so most of the variables contain mostly zeros and then some higher values here and there. No normality, but for most machine learning techniques this is not an issue. "
   ]
  },
  {
   "cell_type": "code",
   "execution_count": 35,
   "metadata": {
    "ExecuteTime": {
     "end_time": "2020-10-14T03:51:29.438393Z",
     "start_time": "2020-10-14T03:51:20.391402Z"
    },
    "scrolled": false
   },
   "outputs": [
    {
     "data": {
      "image/png": "[encoded data removed]",
      "text/plain": [
       "<Figure size 2160x2160 with 100 Axes>"
      ]
     },
     "metadata": {
      "needs_background": "light"
     },
     "output_type": "display_data"
    }
   ],
   "source": [
    "# Your code here\n",
    "feat = data.loc[:, 'feat_1':'feat_93']\n",
    "feat.hist(figsize=(30, 30));"
   ]
  },
  {
   "cell_type": "markdown",
   "metadata": {},
   "source": [
    "Because there are so many zeroes, most values above zero will seem to be outliers. The safe decision for this data is to not delete any outliers and see what happens. With many 0s, sparse data is available and high values may be super informative. Moreover, without having any intuitive meaning for each of the features, we don't know if a value of ~260 is actually an outlier."
   ]
  },
  {
   "cell_type": "code",
   "execution_count": 33,
   "metadata": {
    "ExecuteTime": {
     "end_time": "2020-10-14T03:50:47.123292Z",
     "start_time": "2020-10-14T03:50:43.984216Z"
    }
   },
   "outputs": [
    {
     "data": {
      "text/plain": [
       "<matplotlib.axes._subplots.AxesSubplot at 0x23149497588>"
      ]
     },
     "execution_count": 33,
     "metadata": {},
     "output_type": "execute_result"
    },
    {
     "data": {
      "image/png": "[encoded data removed]",
      "text/plain": [
       "<Figure size 1440x720 with 1 Axes>"
      ]
     },
     "metadata": {
      "needs_background": "light"
     },
     "output_type": "display_data"
    }
   ],
   "source": [
    "# Your code here\n",
    "feat.boxplot(figsize=(20,10))"
   ]
  },
  {
   "cell_type": "markdown",
   "metadata": {},
   "source": [
    "## Feature engineering and selection with PCA"
   ]
  },
  {
   "cell_type": "markdown",
   "metadata": {},
   "source": [
    "Have a look at the correlation structure of your features using a [heatmap](https://seaborn.pydata.org/generated/seaborn.heatmap.html)."
   ]
  },
  {
   "cell_type": "code",
   "execution_count": 37,
   "metadata": {
    "ExecuteTime": {
     "end_time": "2020-10-14T03:52:43.090252Z",
     "start_time": "2020-10-14T03:52:41.155895Z"
    }
   },
   "outputs": [
    {
     "data": {
      "text/plain": [
       "<matplotlib.axes._subplots.AxesSubplot at 0x2314ce1c4e0>"
      ]
     },
     "execution_count": 37,
     "metadata": {},
     "output_type": "execute_result"
    },
    {
     "data": {
      "image/png": "[encoded data removed]",
      "text/plain": [
       "<Figure size 432x288 with 2 Axes>"
      ]
     },
     "metadata": {
      "needs_background": "light"
     },
     "output_type": "display_data"
    }
   ],
   "source": [
    "# Your code here\n",
    "import seaborn as sns\n",
    "sns.heatmap(feat.corr(), center=0)"
   ]
  },
  {
   "cell_type": "markdown",
   "metadata": {},
   "source": [
    "Use PCA to select a number of features in a way that you still keep 80% of your explained variance."
   ]
  },
  {
   "cell_type": "code",
   "execution_count": 39,
   "metadata": {
    "ExecuteTime": {
     "end_time": "2020-10-14T03:55:56.407740Z",
     "start_time": "2020-10-14T03:55:54.398741Z"
    }
   },
   "outputs": [
    {
     "name": "stdout",
     "output_type": "stream",
     "text": [
      "0.7275717237079392\n",
      "0.8885116985039688\n",
      "0.9597879912572101\n",
      "0.8003808177646159\n"
     ]
    }
   ],
   "source": [
    "# Your code here\n",
    "from sklearn.decomposition import PCA\n",
    "pca1= PCA(n_components=20)\n",
    "pca2= PCA(n_components=40)\n",
    "pca3= PCA(n_components=60)\n",
    "\n",
    "principalComponents = pca1.fit_transform(feat)\n",
    "principalComponents = pca2.fit_transform(feat)\n",
    "principalComponents = pca3.fit_transform(feat)\n",
    "\n",
    "print(np.sum(pca1.explained_variance_ratio_))\n",
    "print(np.sum(pca2.explained_variance_ratio_))\n",
    "print(np.sum(pca3.explained_variance_ratio_))\n",
    "\n",
    "pca = PCA(n_components=27)\n",
    "principalComponents = pca.fit_transform(feat)\n",
    "print(np.sum(pca.explained_variance_ratio_))"
   ]
  },
  {
   "cell_type": "code",
   "execution_count": 40,
   "metadata": {
    "ExecuteTime": {
     "end_time": "2020-10-14T03:56:49.562733Z",
     "start_time": "2020-10-14T03:56:48.903651Z"
    }
   },
   "outputs": [
    {
     "data": {
      "text/plain": [
       "<matplotlib.axes._subplots.AxesSubplot at 0x2315e462940>"
      ]
     },
     "execution_count": 40,
     "metadata": {},
     "output_type": "execute_result"
    },
    {
     "data": {
      "image/png": "[encoded data removed]",
      "text/plain": [
       "<Figure size 432x288 with 2 Axes>"
      ]
     },
     "metadata": {
      "needs_background": "light"
     },
     "output_type": "display_data"
    }
   ],
   "source": [
    "# Your code here\n",
    "sns.heatmap(pd.DataFrame(principalComponents).corr(), center=0)"
   ]
  },
  {
   "cell_type": "markdown",
   "metadata": {},
   "source": [
    "## Create a train-test split with a test size of 40%\n",
    "\n",
    "This is a relatively big training set, so you can assign 40% to the test set. Set the `random_state` to 42. "
   ]
  },
  {
   "cell_type": "code",
   "execution_count": 56,
   "metadata": {
    "ExecuteTime": {
     "end_time": "2020-10-14T04:13:51.581024Z",
     "start_time": "2020-10-14T04:13:51.559026Z"
    }
   },
   "outputs": [],
   "source": [
    "# Your code here\n",
    "X = data.loc[:, 'feat_1':'feat_93']\n",
    "y = data['target']"
   ]
  },
  {
   "cell_type": "code",
   "execution_count": 57,
   "metadata": {
    "ExecuteTime": {
     "end_time": "2020-10-14T04:13:52.466587Z",
     "start_time": "2020-10-14T04:13:52.422513Z"
    }
   },
   "outputs": [],
   "source": [
    "# Your code here\n",
    "from sklearn.model_selection import train_test_split\n",
    "X_train, X_test, y_train, y_test = train_test_split(X, y, test_size=.4, random_state=42)"
   ]
  },
  {
   "cell_type": "markdown",
   "metadata": {},
   "source": [
    "## Create a baseline model"
   ]
  },
  {
   "cell_type": "markdown",
   "metadata": {},
   "source": [
    "Create your baseline model *in a pipeline setting*. In the pipeline: \n",
    "\n",
    "- Your first step will be to scale your features down to the number of features that ensure you keep just 80% of your explained variance (which we saw before)\n",
    "- Your second step will be to build a basic logistic regression model \n",
    "\n",
    "Make sure to fit the model using the training set and test the result by obtaining the accuracy using the test set. Set the `random_state` to 123. "
   ]
  },
  {
   "cell_type": "code",
   "execution_count": 58,
   "metadata": {
    "ExecuteTime": {
     "end_time": "2020-10-14T04:13:55.052500Z",
     "start_time": "2020-10-14T04:13:55.045969Z"
    }
   },
   "outputs": [],
   "source": [
    "# Your code here\n",
    "from sklearn.linear_model import LogisticRegression\n",
    "from sklearn.pipeline import Pipeline"
   ]
  },
  {
   "cell_type": "code",
   "execution_count": 59,
   "metadata": {
    "ExecuteTime": {
     "end_time": "2020-10-14T04:13:57.410875Z",
     "start_time": "2020-10-14T04:13:55.474879Z"
    }
   },
   "outputs": [
    {
     "name": "stdout",
     "output_type": "stream",
     "text": [
      "0.7279411764705882\n"
     ]
    },
    {
     "name": "stderr",
     "output_type": "stream",
     "text": [
      "C:\\Users\\drudi\\Anaconda3\\envs\\learn-env\\lib\\site-packages\\sklearn\\linear_model\\_logistic.py:764: ConvergenceWarning: lbfgs failed to converge (status=1):\n",
      "STOP: TOTAL NO. of ITERATIONS REACHED LIMIT.\n",
      "\n",
      "Increase the number of iterations (max_iter) or scale the data as shown in:\n",
      "    https://scikit-learn.org/stable/modules/preprocessing.html\n",
      "Please also refer to the documentation for alternative solver options:\n",
      "    https://scikit-learn.org/stable/modules/linear_model.html#logistic-regression\n",
      "  extra_warning_msg=_LOGISTIC_SOLVER_CONVERGENCE_MSG)\n"
     ]
    }
   ],
   "source": [
    "# Your code here\n",
    "pipe_lr = Pipeline([('pca', PCA(n_components=27, random_state=123)),\n",
    "                   ('clf', LogisticRegression(random_state=123))])\n",
    "\n",
    "pipe_lr.fit(X_train, y_train)\n",
    "print(pipe_lr.score(X_test, y_test))"
   ]
  },
  {
   "cell_type": "code",
   "execution_count": 60,
   "metadata": {
    "ExecuteTime": {
     "end_time": "2020-10-14T04:13:57.440876Z",
     "start_time": "2020-10-14T04:13:57.411876Z"
    }
   },
   "outputs": [
    {
     "data": {
      "text/plain": [
       "0.7279411764705882"
      ]
     },
     "execution_count": 60,
     "metadata": {},
     "output_type": "execute_result"
    }
   ],
   "source": [
    "# Your code here\n",
    "np.sum(pipe_lr.predict(X_test) == y_test)/len(y_test)"
   ]
  },
  {
   "cell_type": "markdown",
   "metadata": {},
   "source": [
    "## Create a pipeline consisting of a linear SVM, a simple decision tree, and a simple random forest classifier"
   ]
  },
  {
   "cell_type": "markdown",
   "metadata": {},
   "source": [
    "Repeat the above, but now create three different pipelines:\n",
    "- One for a standard linear SVM\n",
    "- One for a default decision tree\n",
    "- One for a random forest classifier"
   ]
  },
  {
   "cell_type": "code",
   "execution_count": 61,
   "metadata": {
    "ExecuteTime": {
     "end_time": "2020-10-14T04:15:06.764643Z",
     "start_time": "2020-10-14T04:13:59.366288Z"
    }
   },
   "outputs": [
    {
     "name": "stdout",
     "output_type": "stream",
     "text": [
      "Pipeline(steps=[('pca', PCA(n_components=27)), ('clf', SVC(random_state=123))])\n",
      "Pipeline(steps=[('pca', PCA(n_components=27)),\n",
      "                ('clf', DecisionTreeClassifier(random_state=123))])\n",
      "Pipeline(steps=[('pca', PCA(n_components=27)),\n",
      "                ('clf', RandomForestClassifier(random_state=123))])\n",
      "Support Vecort Machine pipeline test accuracy: 0.753\n",
      "Decision Tree pipeline test accuracy: 0.668\n",
      "Random Forest pipeline test accuracy: 0.772\n"
     ]
    }
   ],
   "source": [
    "# Your code here\n",
    "# ⏰ This cell may take several minutes to run\n",
    "from sklearn import svm\n",
    "from sklearn.ensemble import RandomForestClassifier\n",
    "from sklearn import tree\n",
    "\n",
    "pipe_svm = Pipeline([('pca', PCA(n_components=27)),\n",
    "                    ('clf', svm.SVC(random_state=123))])\n",
    "\n",
    "pipe_tree = Pipeline([('pca', PCA(n_components=27)),\n",
    "                     ('clf', tree.DecisionTreeClassifier(random_state=123))])\n",
    "\n",
    "pipe_rf = Pipeline([('pca', PCA(n_components=27)),\n",
    "                   ('clf', RandomForestClassifier(random_state=123))])\n",
    "\n",
    "pipelines = [pipe_svm, pipe_tree, pipe_rf]\n",
    "pipeline_names = ['Support Vecort Machine', 'Decision Tree', 'Random Forest']\n",
    "\n",
    "for pipe in pipelines:\n",
    "        print(pipe)\n",
    "        pipe.fit(X_train, y_train)\n",
    "        \n",
    "for index, val in enumerate(pipelines):\n",
    "    print('%s pipeline test accuracy: %.3f' % (pipeline_names[index], val.score(X_test, y_test)))"
   ]
  },
  {
   "cell_type": "markdown",
   "metadata": {},
   "source": [
    "## Pipeline with grid search"
   ]
  },
  {
   "cell_type": "markdown",
   "metadata": {},
   "source": [
    "Construct two pipelines with grid search:\n",
    "- one for random forests - try to have around 40 different models\n",
    "- one for the AdaBoost algorithm "
   ]
  },
  {
   "cell_type": "markdown",
   "metadata": {},
   "source": [
    "### Random Forest pipeline with grid search"
   ]
  },
  {
   "cell_type": "code",
   "execution_count": 62,
   "metadata": {
    "ExecuteTime": {
     "end_time": "2020-10-14T04:15:06.768552Z",
     "start_time": "2020-10-14T04:15:06.766619Z"
    }
   },
   "outputs": [],
   "source": [
    "# Your code here \n",
    "# imports\n",
    "from sklearn.model_selection import GridSearchCV"
   ]
  },
  {
   "cell_type": "code",
   "execution_count": 63,
   "metadata": {
    "ExecuteTime": {
     "end_time": "2020-10-14T04:34:00.955863Z",
     "start_time": "2020-10-14T04:20:41.604120Z"
    }
   },
   "outputs": [
    {
     "name": "stdout",
     "output_type": "stream",
     "text": [
      "Fitting 3 folds for each of 54 candidates, totalling 162 fits\n",
      "[CV] clf__criterion=entropy, clf__max_depth=4, clf__min_samples_leaf=0.05, clf__min_samples_split=0.05, clf__n_estimators=120 \n"
     ]
    },
    {
     "name": "stderr",
     "output_type": "stream",
     "text": [
      "[Parallel(n_jobs=1)]: Using backend SequentialBackend with 1 concurrent workers.\n"
     ]
    },
    {
     "name": "stdout",
     "output_type": "stream",
     "text": [
      "[CV]  clf__criterion=entropy, clf__max_depth=4, clf__min_samples_leaf=0.05, clf__min_samples_split=0.05, clf__n_estimators=120, total=   8.2s\n",
      "[CV] clf__criterion=entropy, clf__max_depth=4, clf__min_samples_leaf=0.05, clf__min_samples_split=0.05, clf__n_estimators=120 \n"
     ]
    },
    {
     "name": "stderr",
     "output_type": "stream",
     "text": [
      "[Parallel(n_jobs=1)]: Done   1 out of   1 | elapsed:    8.4s remaining:    0.0s\n"
     ]
    },
    {
     "name": "stdout",
     "output_type": "stream",
     "text": [
      "[CV]  clf__criterion=entropy, clf__max_depth=4, clf__min_samples_leaf=0.05, clf__min_samples_split=0.05, clf__n_estimators=120, total=   8.2s\n",
      "[CV] clf__criterion=entropy, clf__max_depth=4, clf__min_samples_leaf=0.05, clf__min_samples_split=0.05, clf__n_estimators=120 \n",
      "[CV]  clf__criterion=entropy, clf__max_depth=4, clf__min_samples_leaf=0.05, clf__min_samples_split=0.05, clf__n_estimators=120, total=   8.3s\n",
      "[CV] clf__criterion=entropy, clf__max_depth=4, clf__min_samples_leaf=0.05, clf__min_samples_split=0.1, clf__n_estimators=120 \n",
      "[CV]  clf__criterion=entropy, clf__max_depth=4, clf__min_samples_leaf=0.05, clf__min_samples_split=0.1, clf__n_estimators=120, total=   8.2s\n",
      "[CV] clf__criterion=entropy, clf__max_depth=4, clf__min_samples_leaf=0.05, clf__min_samples_split=0.1, clf__n_estimators=120 \n",
      "[CV]  clf__criterion=entropy, clf__max_depth=4, clf__min_samples_leaf=0.05, clf__min_samples_split=0.1, clf__n_estimators=120, total=   8.4s\n",
      "[CV] clf__criterion=entropy, clf__max_depth=4, clf__min_samples_leaf=0.05, clf__min_samples_split=0.1, clf__n_estimators=120 \n",
      "[CV]  clf__criterion=entropy, clf__max_depth=4, clf__min_samples_leaf=0.05, clf__min_samples_split=0.1, clf__n_estimators=120, total=   8.6s\n",
      "[CV] clf__criterion=entropy, clf__max_depth=4, clf__min_samples_leaf=0.05, clf__min_samples_split=0.2, clf__n_estimators=120 \n",
      "[CV]  clf__criterion=entropy, clf__max_depth=4, clf__min_samples_leaf=0.05, clf__min_samples_split=0.2, clf__n_estimators=120, total=   7.2s\n",
      "[CV] clf__criterion=entropy, clf__max_depth=4, clf__min_samples_leaf=0.05, clf__min_samples_split=0.2, clf__n_estimators=120 \n",
      "[CV]  clf__criterion=entropy, clf__max_depth=4, clf__min_samples_leaf=0.05, clf__min_samples_split=0.2, clf__n_estimators=120, total=   7.4s\n",
      "[CV] clf__criterion=entropy, clf__max_depth=4, clf__min_samples_leaf=0.05, clf__min_samples_split=0.2, clf__n_estimators=120 \n",
      "[CV]  clf__criterion=entropy, clf__max_depth=4, clf__min_samples_leaf=0.05, clf__min_samples_split=0.2, clf__n_estimators=120, total=   7.6s\n",
      "[CV] clf__criterion=entropy, clf__max_depth=4, clf__min_samples_leaf=0.1, clf__min_samples_split=0.05, clf__n_estimators=120 \n",
      "[CV]  clf__criterion=entropy, clf__max_depth=4, clf__min_samples_leaf=0.1, clf__min_samples_split=0.05, clf__n_estimators=120, total=   5.6s\n",
      "[CV] clf__criterion=entropy, clf__max_depth=4, clf__min_samples_leaf=0.1, clf__min_samples_split=0.05, clf__n_estimators=120 \n",
      "[CV]  clf__criterion=entropy, clf__max_depth=4, clf__min_samples_leaf=0.1, clf__min_samples_split=0.05, clf__n_estimators=120, total=   5.5s\n",
      "[CV] clf__criterion=entropy, clf__max_depth=4, clf__min_samples_leaf=0.1, clf__min_samples_split=0.05, clf__n_estimators=120 \n",
      "[CV]  clf__criterion=entropy, clf__max_depth=4, clf__min_samples_leaf=0.1, clf__min_samples_split=0.05, clf__n_estimators=120, total=   5.7s\n",
      "[CV] clf__criterion=entropy, clf__max_depth=4, clf__min_samples_leaf=0.1, clf__min_samples_split=0.1, clf__n_estimators=120 \n",
      "[CV]  clf__criterion=entropy, clf__max_depth=4, clf__min_samples_leaf=0.1, clf__min_samples_split=0.1, clf__n_estimators=120, total=   5.7s\n",
      "[CV] clf__criterion=entropy, clf__max_depth=4, clf__min_samples_leaf=0.1, clf__min_samples_split=0.1, clf__n_estimators=120 \n",
      "[CV]  clf__criterion=entropy, clf__max_depth=4, clf__min_samples_leaf=0.1, clf__min_samples_split=0.1, clf__n_estimators=120, total=   5.5s\n",
      "[CV] clf__criterion=entropy, clf__max_depth=4, clf__min_samples_leaf=0.1, clf__min_samples_split=0.1, clf__n_estimators=120 \n",
      "[CV]  clf__criterion=entropy, clf__max_depth=4, clf__min_samples_leaf=0.1, clf__min_samples_split=0.1, clf__n_estimators=120, total=   5.5s\n",
      "[CV] clf__criterion=entropy, clf__max_depth=4, clf__min_samples_leaf=0.1, clf__min_samples_split=0.2, clf__n_estimators=120 \n",
      "[CV]  clf__criterion=entropy, clf__max_depth=4, clf__min_samples_leaf=0.1, clf__min_samples_split=0.2, clf__n_estimators=120, total=   5.6s\n",
      "[CV] clf__criterion=entropy, clf__max_depth=4, clf__min_samples_leaf=0.1, clf__min_samples_split=0.2, clf__n_estimators=120 \n",
      "[CV]  clf__criterion=entropy, clf__max_depth=4, clf__min_samples_leaf=0.1, clf__min_samples_split=0.2, clf__n_estimators=120, total=   5.6s\n",
      "[CV] clf__criterion=entropy, clf__max_depth=4, clf__min_samples_leaf=0.1, clf__min_samples_split=0.2, clf__n_estimators=120 \n",
      "[CV]  clf__criterion=entropy, clf__max_depth=4, clf__min_samples_leaf=0.1, clf__min_samples_split=0.2, clf__n_estimators=120, total=   5.6s\n",
      "[CV] clf__criterion=entropy, clf__max_depth=4, clf__min_samples_leaf=0.2, clf__min_samples_split=0.05, clf__n_estimators=120 \n",
      "[CV]  clf__criterion=entropy, clf__max_depth=4, clf__min_samples_leaf=0.2, clf__min_samples_split=0.05, clf__n_estimators=120, total=   2.7s\n",
      "[CV] clf__criterion=entropy, clf__max_depth=4, clf__min_samples_leaf=0.2, clf__min_samples_split=0.05, clf__n_estimators=120 \n",
      "[CV]  clf__criterion=entropy, clf__max_depth=4, clf__min_samples_leaf=0.2, clf__min_samples_split=0.05, clf__n_estimators=120, total=   2.6s\n",
      "[CV] clf__criterion=entropy, clf__max_depth=4, clf__min_samples_leaf=0.2, clf__min_samples_split=0.05, clf__n_estimators=120 \n",
      "[CV]  clf__criterion=entropy, clf__max_depth=4, clf__min_samples_leaf=0.2, clf__min_samples_split=0.05, clf__n_estimators=120, total=   2.9s\n",
      "[CV] clf__criterion=entropy, clf__max_depth=4, clf__min_samples_leaf=0.2, clf__min_samples_split=0.1, clf__n_estimators=120 \n",
      "[CV]  clf__criterion=entropy, clf__max_depth=4, clf__min_samples_leaf=0.2, clf__min_samples_split=0.1, clf__n_estimators=120, total=   2.8s\n",
      "[CV] clf__criterion=entropy, clf__max_depth=4, clf__min_samples_leaf=0.2, clf__min_samples_split=0.1, clf__n_estimators=120 \n",
      "[CV]  clf__criterion=entropy, clf__max_depth=4, clf__min_samples_leaf=0.2, clf__min_samples_split=0.1, clf__n_estimators=120, total=   2.8s\n",
      "[CV] clf__criterion=entropy, clf__max_depth=4, clf__min_samples_leaf=0.2, clf__min_samples_split=0.1, clf__n_estimators=120 \n",
      "[CV]  clf__criterion=entropy, clf__max_depth=4, clf__min_samples_leaf=0.2, clf__min_samples_split=0.1, clf__n_estimators=120, total=   2.9s\n",
      "[CV] clf__criterion=entropy, clf__max_depth=4, clf__min_samples_leaf=0.2, clf__min_samples_split=0.2, clf__n_estimators=120 \n",
      "[CV]  clf__criterion=entropy, clf__max_depth=4, clf__min_samples_leaf=0.2, clf__min_samples_split=0.2, clf__n_estimators=120, total=   2.8s\n",
      "[CV] clf__criterion=entropy, clf__max_depth=4, clf__min_samples_leaf=0.2, clf__min_samples_split=0.2, clf__n_estimators=120 \n",
      "[CV]  clf__criterion=entropy, clf__max_depth=4, clf__min_samples_leaf=0.2, clf__min_samples_split=0.2, clf__n_estimators=120, total=   2.8s\n",
      "[CV] clf__criterion=entropy, clf__max_depth=4, clf__min_samples_leaf=0.2, clf__min_samples_split=0.2, clf__n_estimators=120 \n",
      "[CV]  clf__criterion=entropy, clf__max_depth=4, clf__min_samples_leaf=0.2, clf__min_samples_split=0.2, clf__n_estimators=120, total=   2.8s\n",
      "[CV] clf__criterion=entropy, clf__max_depth=5, clf__min_samples_leaf=0.05, clf__min_samples_split=0.05, clf__n_estimators=120 \n",
      "[CV]  clf__criterion=entropy, clf__max_depth=5, clf__min_samples_leaf=0.05, clf__min_samples_split=0.05, clf__n_estimators=120, total=   8.8s\n",
      "[CV] clf__criterion=entropy, clf__max_depth=5, clf__min_samples_leaf=0.05, clf__min_samples_split=0.05, clf__n_estimators=120 \n",
      "[CV]  clf__criterion=entropy, clf__max_depth=5, clf__min_samples_leaf=0.05, clf__min_samples_split=0.05, clf__n_estimators=120, total=   8.9s\n",
      "[CV] clf__criterion=entropy, clf__max_depth=5, clf__min_samples_leaf=0.05, clf__min_samples_split=0.05, clf__n_estimators=120 \n",
      "[CV]  clf__criterion=entropy, clf__max_depth=5, clf__min_samples_leaf=0.05, clf__min_samples_split=0.05, clf__n_estimators=120, total=   8.9s\n",
      "[CV] clf__criterion=entropy, clf__max_depth=5, clf__min_samples_leaf=0.05, clf__min_samples_split=0.1, clf__n_estimators=120 \n",
      "[CV]  clf__criterion=entropy, clf__max_depth=5, clf__min_samples_leaf=0.05, clf__min_samples_split=0.1, clf__n_estimators=120, total=   9.0s\n",
      "[CV] clf__criterion=entropy, clf__max_depth=5, clf__min_samples_leaf=0.05, clf__min_samples_split=0.1, clf__n_estimators=120 \n",
      "[CV]  clf__criterion=entropy, clf__max_depth=5, clf__min_samples_leaf=0.05, clf__min_samples_split=0.1, clf__n_estimators=120, total=   9.2s\n",
      "[CV] clf__criterion=entropy, clf__max_depth=5, clf__min_samples_leaf=0.05, clf__min_samples_split=0.1, clf__n_estimators=120 \n"
     ]
    },
    {
     "name": "stdout",
     "output_type": "stream",
     "text": [
      "[CV]  clf__criterion=entropy, clf__max_depth=5, clf__min_samples_leaf=0.05, clf__min_samples_split=0.1, clf__n_estimators=120, total=   9.0s\n",
      "[CV] clf__criterion=entropy, clf__max_depth=5, clf__min_samples_leaf=0.05, clf__min_samples_split=0.2, clf__n_estimators=120 \n",
      "[CV]  clf__criterion=entropy, clf__max_depth=5, clf__min_samples_leaf=0.05, clf__min_samples_split=0.2, clf__n_estimators=120, total=   7.4s\n",
      "[CV] clf__criterion=entropy, clf__max_depth=5, clf__min_samples_leaf=0.05, clf__min_samples_split=0.2, clf__n_estimators=120 \n",
      "[CV]  clf__criterion=entropy, clf__max_depth=5, clf__min_samples_leaf=0.05, clf__min_samples_split=0.2, clf__n_estimators=120, total=   7.6s\n",
      "[CV] clf__criterion=entropy, clf__max_depth=5, clf__min_samples_leaf=0.05, clf__min_samples_split=0.2, clf__n_estimators=120 \n",
      "[CV]  clf__criterion=entropy, clf__max_depth=5, clf__min_samples_leaf=0.05, clf__min_samples_split=0.2, clf__n_estimators=120, total=   8.0s\n",
      "[CV] clf__criterion=entropy, clf__max_depth=5, clf__min_samples_leaf=0.1, clf__min_samples_split=0.05, clf__n_estimators=120 \n",
      "[CV]  clf__criterion=entropy, clf__max_depth=5, clf__min_samples_leaf=0.1, clf__min_samples_split=0.05, clf__n_estimators=120, total=   5.5s\n",
      "[CV] clf__criterion=entropy, clf__max_depth=5, clf__min_samples_leaf=0.1, clf__min_samples_split=0.05, clf__n_estimators=120 \n",
      "[CV]  clf__criterion=entropy, clf__max_depth=5, clf__min_samples_leaf=0.1, clf__min_samples_split=0.05, clf__n_estimators=120, total=   5.8s\n",
      "[CV] clf__criterion=entropy, clf__max_depth=5, clf__min_samples_leaf=0.1, clf__min_samples_split=0.05, clf__n_estimators=120 \n",
      "[CV]  clf__criterion=entropy, clf__max_depth=5, clf__min_samples_leaf=0.1, clf__min_samples_split=0.05, clf__n_estimators=120, total=   5.7s\n",
      "[CV] clf__criterion=entropy, clf__max_depth=5, clf__min_samples_leaf=0.1, clf__min_samples_split=0.1, clf__n_estimators=120 \n",
      "[CV]  clf__criterion=entropy, clf__max_depth=5, clf__min_samples_leaf=0.1, clf__min_samples_split=0.1, clf__n_estimators=120, total=   5.7s\n",
      "[CV] clf__criterion=entropy, clf__max_depth=5, clf__min_samples_leaf=0.1, clf__min_samples_split=0.1, clf__n_estimators=120 \n",
      "[CV]  clf__criterion=entropy, clf__max_depth=5, clf__min_samples_leaf=0.1, clf__min_samples_split=0.1, clf__n_estimators=120, total=   6.0s\n",
      "[CV] clf__criterion=entropy, clf__max_depth=5, clf__min_samples_leaf=0.1, clf__min_samples_split=0.1, clf__n_estimators=120 \n",
      "[CV]  clf__criterion=entropy, clf__max_depth=5, clf__min_samples_leaf=0.1, clf__min_samples_split=0.1, clf__n_estimators=120, total=   5.8s\n",
      "[CV] clf__criterion=entropy, clf__max_depth=5, clf__min_samples_leaf=0.1, clf__min_samples_split=0.2, clf__n_estimators=120 \n",
      "[CV]  clf__criterion=entropy, clf__max_depth=5, clf__min_samples_leaf=0.1, clf__min_samples_split=0.2, clf__n_estimators=120, total=   6.4s\n",
      "[CV] clf__criterion=entropy, clf__max_depth=5, clf__min_samples_leaf=0.1, clf__min_samples_split=0.2, clf__n_estimators=120 \n",
      "[CV]  clf__criterion=entropy, clf__max_depth=5, clf__min_samples_leaf=0.1, clf__min_samples_split=0.2, clf__n_estimators=120, total=   6.1s\n",
      "[CV] clf__criterion=entropy, clf__max_depth=5, clf__min_samples_leaf=0.1, clf__min_samples_split=0.2, clf__n_estimators=120 \n",
      "[CV]  clf__criterion=entropy, clf__max_depth=5, clf__min_samples_leaf=0.1, clf__min_samples_split=0.2, clf__n_estimators=120, total=   6.2s\n",
      "[CV] clf__criterion=entropy, clf__max_depth=5, clf__min_samples_leaf=0.2, clf__min_samples_split=0.05, clf__n_estimators=120 \n",
      "[CV]  clf__criterion=entropy, clf__max_depth=5, clf__min_samples_leaf=0.2, clf__min_samples_split=0.05, clf__n_estimators=120, total=   3.1s\n",
      "[CV] clf__criterion=entropy, clf__max_depth=5, clf__min_samples_leaf=0.2, clf__min_samples_split=0.05, clf__n_estimators=120 \n",
      "[CV]  clf__criterion=entropy, clf__max_depth=5, clf__min_samples_leaf=0.2, clf__min_samples_split=0.05, clf__n_estimators=120, total=   2.9s\n",
      "[CV] clf__criterion=entropy, clf__max_depth=5, clf__min_samples_leaf=0.2, clf__min_samples_split=0.05, clf__n_estimators=120 \n",
      "[CV]  clf__criterion=entropy, clf__max_depth=5, clf__min_samples_leaf=0.2, clf__min_samples_split=0.05, clf__n_estimators=120, total=   3.0s\n",
      "[CV] clf__criterion=entropy, clf__max_depth=5, clf__min_samples_leaf=0.2, clf__min_samples_split=0.1, clf__n_estimators=120 \n",
      "[CV]  clf__criterion=entropy, clf__max_depth=5, clf__min_samples_leaf=0.2, clf__min_samples_split=0.1, clf__n_estimators=120, total=   2.8s\n",
      "[CV] clf__criterion=entropy, clf__max_depth=5, clf__min_samples_leaf=0.2, clf__min_samples_split=0.1, clf__n_estimators=120 \n",
      "[CV]  clf__criterion=entropy, clf__max_depth=5, clf__min_samples_leaf=0.2, clf__min_samples_split=0.1, clf__n_estimators=120, total=   2.9s\n",
      "[CV] clf__criterion=entropy, clf__max_depth=5, clf__min_samples_leaf=0.2, clf__min_samples_split=0.1, clf__n_estimators=120 \n",
      "[CV]  clf__criterion=entropy, clf__max_depth=5, clf__min_samples_leaf=0.2, clf__min_samples_split=0.1, clf__n_estimators=120, total=   2.9s\n",
      "[CV] clf__criterion=entropy, clf__max_depth=5, clf__min_samples_leaf=0.2, clf__min_samples_split=0.2, clf__n_estimators=120 \n",
      "[CV]  clf__criterion=entropy, clf__max_depth=5, clf__min_samples_leaf=0.2, clf__min_samples_split=0.2, clf__n_estimators=120, total=   2.8s\n",
      "[CV] clf__criterion=entropy, clf__max_depth=5, clf__min_samples_leaf=0.2, clf__min_samples_split=0.2, clf__n_estimators=120 \n",
      "[CV]  clf__criterion=entropy, clf__max_depth=5, clf__min_samples_leaf=0.2, clf__min_samples_split=0.2, clf__n_estimators=120, total=   3.2s\n",
      "[CV] clf__criterion=entropy, clf__max_depth=5, clf__min_samples_leaf=0.2, clf__min_samples_split=0.2, clf__n_estimators=120 \n",
      "[CV]  clf__criterion=entropy, clf__max_depth=5, clf__min_samples_leaf=0.2, clf__min_samples_split=0.2, clf__n_estimators=120, total=   2.9s\n",
      "[CV] clf__criterion=entropy, clf__max_depth=6, clf__min_samples_leaf=0.05, clf__min_samples_split=0.05, clf__n_estimators=120 \n",
      "[CV]  clf__criterion=entropy, clf__max_depth=6, clf__min_samples_leaf=0.05, clf__min_samples_split=0.05, clf__n_estimators=120, total=   9.5s\n",
      "[CV] clf__criterion=entropy, clf__max_depth=6, clf__min_samples_leaf=0.05, clf__min_samples_split=0.05, clf__n_estimators=120 \n",
      "[CV]  clf__criterion=entropy, clf__max_depth=6, clf__min_samples_leaf=0.05, clf__min_samples_split=0.05, clf__n_estimators=120, total=   9.8s\n",
      "[CV] clf__criterion=entropy, clf__max_depth=6, clf__min_samples_leaf=0.05, clf__min_samples_split=0.05, clf__n_estimators=120 \n",
      "[CV]  clf__criterion=entropy, clf__max_depth=6, clf__min_samples_leaf=0.05, clf__min_samples_split=0.05, clf__n_estimators=120, total=  10.0s\n",
      "[CV] clf__criterion=entropy, clf__max_depth=6, clf__min_samples_leaf=0.05, clf__min_samples_split=0.1, clf__n_estimators=120 \n",
      "[CV]  clf__criterion=entropy, clf__max_depth=6, clf__min_samples_leaf=0.05, clf__min_samples_split=0.1, clf__n_estimators=120, total=   9.3s\n",
      "[CV] clf__criterion=entropy, clf__max_depth=6, clf__min_samples_leaf=0.05, clf__min_samples_split=0.1, clf__n_estimators=120 \n",
      "[CV]  clf__criterion=entropy, clf__max_depth=6, clf__min_samples_leaf=0.05, clf__min_samples_split=0.1, clf__n_estimators=120, total=   9.2s\n",
      "[CV] clf__criterion=entropy, clf__max_depth=6, clf__min_samples_leaf=0.05, clf__min_samples_split=0.1, clf__n_estimators=120 \n",
      "[CV]  clf__criterion=entropy, clf__max_depth=6, clf__min_samples_leaf=0.05, clf__min_samples_split=0.1, clf__n_estimators=120, total=   9.8s\n",
      "[CV] clf__criterion=entropy, clf__max_depth=6, clf__min_samples_leaf=0.05, clf__min_samples_split=0.2, clf__n_estimators=120 \n",
      "[CV]  clf__criterion=entropy, clf__max_depth=6, clf__min_samples_leaf=0.05, clf__min_samples_split=0.2, clf__n_estimators=120, total=   8.4s\n",
      "[CV] clf__criterion=entropy, clf__max_depth=6, clf__min_samples_leaf=0.05, clf__min_samples_split=0.2, clf__n_estimators=120 \n",
      "[CV]  clf__criterion=entropy, clf__max_depth=6, clf__min_samples_leaf=0.05, clf__min_samples_split=0.2, clf__n_estimators=120, total=   8.2s\n",
      "[CV] clf__criterion=entropy, clf__max_depth=6, clf__min_samples_leaf=0.05, clf__min_samples_split=0.2, clf__n_estimators=120 \n",
      "[CV]  clf__criterion=entropy, clf__max_depth=6, clf__min_samples_leaf=0.05, clf__min_samples_split=0.2, clf__n_estimators=120, total=   8.4s\n",
      "[CV] clf__criterion=entropy, clf__max_depth=6, clf__min_samples_leaf=0.1, clf__min_samples_split=0.05, clf__n_estimators=120 \n"
     ]
    },
    {
     "name": "stdout",
     "output_type": "stream",
     "text": [
      "[CV]  clf__criterion=entropy, clf__max_depth=6, clf__min_samples_leaf=0.1, clf__min_samples_split=0.05, clf__n_estimators=120, total=   5.7s\n",
      "[CV] clf__criterion=entropy, clf__max_depth=6, clf__min_samples_leaf=0.1, clf__min_samples_split=0.05, clf__n_estimators=120 \n",
      "[CV]  clf__criterion=entropy, clf__max_depth=6, clf__min_samples_leaf=0.1, clf__min_samples_split=0.05, clf__n_estimators=120, total=   5.8s\n",
      "[CV] clf__criterion=entropy, clf__max_depth=6, clf__min_samples_leaf=0.1, clf__min_samples_split=0.05, clf__n_estimators=120 \n",
      "[CV]  clf__criterion=entropy, clf__max_depth=6, clf__min_samples_leaf=0.1, clf__min_samples_split=0.05, clf__n_estimators=120, total=   5.9s\n",
      "[CV] clf__criterion=entropy, clf__max_depth=6, clf__min_samples_leaf=0.1, clf__min_samples_split=0.1, clf__n_estimators=120 \n",
      "[CV]  clf__criterion=entropy, clf__max_depth=6, clf__min_samples_leaf=0.1, clf__min_samples_split=0.1, clf__n_estimators=120, total=   5.9s\n",
      "[CV] clf__criterion=entropy, clf__max_depth=6, clf__min_samples_leaf=0.1, clf__min_samples_split=0.1, clf__n_estimators=120 \n",
      "[CV]  clf__criterion=entropy, clf__max_depth=6, clf__min_samples_leaf=0.1, clf__min_samples_split=0.1, clf__n_estimators=120, total=   5.7s\n",
      "[CV] clf__criterion=entropy, clf__max_depth=6, clf__min_samples_leaf=0.1, clf__min_samples_split=0.1, clf__n_estimators=120 \n",
      "[CV]  clf__criterion=entropy, clf__max_depth=6, clf__min_samples_leaf=0.1, clf__min_samples_split=0.1, clf__n_estimators=120, total=   5.9s\n",
      "[CV] clf__criterion=entropy, clf__max_depth=6, clf__min_samples_leaf=0.1, clf__min_samples_split=0.2, clf__n_estimators=120 \n",
      "[CV]  clf__criterion=entropy, clf__max_depth=6, clf__min_samples_leaf=0.1, clf__min_samples_split=0.2, clf__n_estimators=120, total=   5.7s\n",
      "[CV] clf__criterion=entropy, clf__max_depth=6, clf__min_samples_leaf=0.1, clf__min_samples_split=0.2, clf__n_estimators=120 \n",
      "[CV]  clf__criterion=entropy, clf__max_depth=6, clf__min_samples_leaf=0.1, clf__min_samples_split=0.2, clf__n_estimators=120, total=   5.8s\n",
      "[CV] clf__criterion=entropy, clf__max_depth=6, clf__min_samples_leaf=0.1, clf__min_samples_split=0.2, clf__n_estimators=120 \n",
      "[CV]  clf__criterion=entropy, clf__max_depth=6, clf__min_samples_leaf=0.1, clf__min_samples_split=0.2, clf__n_estimators=120, total=   5.7s\n",
      "[CV] clf__criterion=entropy, clf__max_depth=6, clf__min_samples_leaf=0.2, clf__min_samples_split=0.05, clf__n_estimators=120 \n",
      "[CV]  clf__criterion=entropy, clf__max_depth=6, clf__min_samples_leaf=0.2, clf__min_samples_split=0.05, clf__n_estimators=120, total=   3.0s\n",
      "[CV] clf__criterion=entropy, clf__max_depth=6, clf__min_samples_leaf=0.2, clf__min_samples_split=0.05, clf__n_estimators=120 \n",
      "[CV]  clf__criterion=entropy, clf__max_depth=6, clf__min_samples_leaf=0.2, clf__min_samples_split=0.05, clf__n_estimators=120, total=   2.8s\n",
      "[CV] clf__criterion=entropy, clf__max_depth=6, clf__min_samples_leaf=0.2, clf__min_samples_split=0.05, clf__n_estimators=120 \n",
      "[CV]  clf__criterion=entropy, clf__max_depth=6, clf__min_samples_leaf=0.2, clf__min_samples_split=0.05, clf__n_estimators=120, total=   3.0s\n",
      "[CV] clf__criterion=entropy, clf__max_depth=6, clf__min_samples_leaf=0.2, clf__min_samples_split=0.1, clf__n_estimators=120 \n",
      "[CV]  clf__criterion=entropy, clf__max_depth=6, clf__min_samples_leaf=0.2, clf__min_samples_split=0.1, clf__n_estimators=120, total=   3.0s\n",
      "[CV] clf__criterion=entropy, clf__max_depth=6, clf__min_samples_leaf=0.2, clf__min_samples_split=0.1, clf__n_estimators=120 \n",
      "[CV]  clf__criterion=entropy, clf__max_depth=6, clf__min_samples_leaf=0.2, clf__min_samples_split=0.1, clf__n_estimators=120, total=   2.8s\n",
      "[CV] clf__criterion=entropy, clf__max_depth=6, clf__min_samples_leaf=0.2, clf__min_samples_split=0.1, clf__n_estimators=120 \n",
      "[CV]  clf__criterion=entropy, clf__max_depth=6, clf__min_samples_leaf=0.2, clf__min_samples_split=0.1, clf__n_estimators=120, total=   2.8s\n",
      "[CV] clf__criterion=entropy, clf__max_depth=6, clf__min_samples_leaf=0.2, clf__min_samples_split=0.2, clf__n_estimators=120 \n",
      "[CV]  clf__criterion=entropy, clf__max_depth=6, clf__min_samples_leaf=0.2, clf__min_samples_split=0.2, clf__n_estimators=120, total=   2.9s\n",
      "[CV] clf__criterion=entropy, clf__max_depth=6, clf__min_samples_leaf=0.2, clf__min_samples_split=0.2, clf__n_estimators=120 \n",
      "[CV]  clf__criterion=entropy, clf__max_depth=6, clf__min_samples_leaf=0.2, clf__min_samples_split=0.2, clf__n_estimators=120, total=   3.1s\n",
      "[CV] clf__criterion=entropy, clf__max_depth=6, clf__min_samples_leaf=0.2, clf__min_samples_split=0.2, clf__n_estimators=120 \n",
      "[CV]  clf__criterion=entropy, clf__max_depth=6, clf__min_samples_leaf=0.2, clf__min_samples_split=0.2, clf__n_estimators=120, total=   2.9s\n",
      "[CV] clf__criterion=gini, clf__max_depth=4, clf__min_samples_leaf=0.05, clf__min_samples_split=0.05, clf__n_estimators=120 \n",
      "[CV]  clf__criterion=gini, clf__max_depth=4, clf__min_samples_leaf=0.05, clf__min_samples_split=0.05, clf__n_estimators=120, total=   4.3s\n",
      "[CV] clf__criterion=gini, clf__max_depth=4, clf__min_samples_leaf=0.05, clf__min_samples_split=0.05, clf__n_estimators=120 \n",
      "[CV]  clf__criterion=gini, clf__max_depth=4, clf__min_samples_leaf=0.05, clf__min_samples_split=0.05, clf__n_estimators=120, total=   4.3s\n",
      "[CV] clf__criterion=gini, clf__max_depth=4, clf__min_samples_leaf=0.05, clf__min_samples_split=0.05, clf__n_estimators=120 \n",
      "[CV]  clf__criterion=gini, clf__max_depth=4, clf__min_samples_leaf=0.05, clf__min_samples_split=0.05, clf__n_estimators=120, total=   4.2s\n",
      "[CV] clf__criterion=gini, clf__max_depth=4, clf__min_samples_leaf=0.05, clf__min_samples_split=0.1, clf__n_estimators=120 \n",
      "[CV]  clf__criterion=gini, clf__max_depth=4, clf__min_samples_leaf=0.05, clf__min_samples_split=0.1, clf__n_estimators=120, total=   4.1s\n",
      "[CV] clf__criterion=gini, clf__max_depth=4, clf__min_samples_leaf=0.05, clf__min_samples_split=0.1, clf__n_estimators=120 \n",
      "[CV]  clf__criterion=gini, clf__max_depth=4, clf__min_samples_leaf=0.05, clf__min_samples_split=0.1, clf__n_estimators=120, total=   4.8s\n",
      "[CV] clf__criterion=gini, clf__max_depth=4, clf__min_samples_leaf=0.05, clf__min_samples_split=0.1, clf__n_estimators=120 \n",
      "[CV]  clf__criterion=gini, clf__max_depth=4, clf__min_samples_leaf=0.05, clf__min_samples_split=0.1, clf__n_estimators=120, total=   4.3s\n",
      "[CV] clf__criterion=gini, clf__max_depth=4, clf__min_samples_leaf=0.05, clf__min_samples_split=0.2, clf__n_estimators=120 \n",
      "[CV]  clf__criterion=gini, clf__max_depth=4, clf__min_samples_leaf=0.05, clf__min_samples_split=0.2, clf__n_estimators=120, total=   3.8s\n",
      "[CV] clf__criterion=gini, clf__max_depth=4, clf__min_samples_leaf=0.05, clf__min_samples_split=0.2, clf__n_estimators=120 \n",
      "[CV]  clf__criterion=gini, clf__max_depth=4, clf__min_samples_leaf=0.05, clf__min_samples_split=0.2, clf__n_estimators=120, total=   3.5s\n",
      "[CV] clf__criterion=gini, clf__max_depth=4, clf__min_samples_leaf=0.05, clf__min_samples_split=0.2, clf__n_estimators=120 \n",
      "[CV]  clf__criterion=gini, clf__max_depth=4, clf__min_samples_leaf=0.05, clf__min_samples_split=0.2, clf__n_estimators=120, total=   4.2s\n",
      "[CV] clf__criterion=gini, clf__max_depth=4, clf__min_samples_leaf=0.1, clf__min_samples_split=0.05, clf__n_estimators=120 \n",
      "[CV]  clf__criterion=gini, clf__max_depth=4, clf__min_samples_leaf=0.1, clf__min_samples_split=0.05, clf__n_estimators=120, total=   3.4s\n",
      "[CV] clf__criterion=gini, clf__max_depth=4, clf__min_samples_leaf=0.1, clf__min_samples_split=0.05, clf__n_estimators=120 \n",
      "[CV]  clf__criterion=gini, clf__max_depth=4, clf__min_samples_leaf=0.1, clf__min_samples_split=0.05, clf__n_estimators=120, total=   3.2s\n",
      "[CV] clf__criterion=gini, clf__max_depth=4, clf__min_samples_leaf=0.1, clf__min_samples_split=0.05, clf__n_estimators=120 \n",
      "[CV]  clf__criterion=gini, clf__max_depth=4, clf__min_samples_leaf=0.1, clf__min_samples_split=0.05, clf__n_estimators=120, total=   3.3s\n",
      "[CV] clf__criterion=gini, clf__max_depth=4, clf__min_samples_leaf=0.1, clf__min_samples_split=0.1, clf__n_estimators=120 \n",
      "[CV]  clf__criterion=gini, clf__max_depth=4, clf__min_samples_leaf=0.1, clf__min_samples_split=0.1, clf__n_estimators=120, total=   3.3s\n",
      "[CV] clf__criterion=gini, clf__max_depth=4, clf__min_samples_leaf=0.1, clf__min_samples_split=0.1, clf__n_estimators=120 \n",
      "[CV]  clf__criterion=gini, clf__max_depth=4, clf__min_samples_leaf=0.1, clf__min_samples_split=0.1, clf__n_estimators=120, total=   3.3s\n",
      "[CV] clf__criterion=gini, clf__max_depth=4, clf__min_samples_leaf=0.1, clf__min_samples_split=0.1, clf__n_estimators=120 \n"
     ]
    },
    {
     "name": "stdout",
     "output_type": "stream",
     "text": [
      "[CV]  clf__criterion=gini, clf__max_depth=4, clf__min_samples_leaf=0.1, clf__min_samples_split=0.1, clf__n_estimators=120, total=   3.4s\n",
      "[CV] clf__criterion=gini, clf__max_depth=4, clf__min_samples_leaf=0.1, clf__min_samples_split=0.2, clf__n_estimators=120 \n",
      "[CV]  clf__criterion=gini, clf__max_depth=4, clf__min_samples_leaf=0.1, clf__min_samples_split=0.2, clf__n_estimators=120, total=   3.4s\n",
      "[CV] clf__criterion=gini, clf__max_depth=4, clf__min_samples_leaf=0.1, clf__min_samples_split=0.2, clf__n_estimators=120 \n",
      "[CV]  clf__criterion=gini, clf__max_depth=4, clf__min_samples_leaf=0.1, clf__min_samples_split=0.2, clf__n_estimators=120, total=   3.6s\n",
      "[CV] clf__criterion=gini, clf__max_depth=4, clf__min_samples_leaf=0.1, clf__min_samples_split=0.2, clf__n_estimators=120 \n",
      "[CV]  clf__criterion=gini, clf__max_depth=4, clf__min_samples_leaf=0.1, clf__min_samples_split=0.2, clf__n_estimators=120, total=   3.3s\n",
      "[CV] clf__criterion=gini, clf__max_depth=4, clf__min_samples_leaf=0.2, clf__min_samples_split=0.05, clf__n_estimators=120 \n",
      "[CV]  clf__criterion=gini, clf__max_depth=4, clf__min_samples_leaf=0.2, clf__min_samples_split=0.05, clf__n_estimators=120, total=   2.2s\n",
      "[CV] clf__criterion=gini, clf__max_depth=4, clf__min_samples_leaf=0.2, clf__min_samples_split=0.05, clf__n_estimators=120 \n",
      "[CV]  clf__criterion=gini, clf__max_depth=4, clf__min_samples_leaf=0.2, clf__min_samples_split=0.05, clf__n_estimators=120, total=   2.3s\n",
      "[CV] clf__criterion=gini, clf__max_depth=4, clf__min_samples_leaf=0.2, clf__min_samples_split=0.05, clf__n_estimators=120 \n",
      "[CV]  clf__criterion=gini, clf__max_depth=4, clf__min_samples_leaf=0.2, clf__min_samples_split=0.05, clf__n_estimators=120, total=   2.1s\n",
      "[CV] clf__criterion=gini, clf__max_depth=4, clf__min_samples_leaf=0.2, clf__min_samples_split=0.1, clf__n_estimators=120 \n",
      "[CV]  clf__criterion=gini, clf__max_depth=4, clf__min_samples_leaf=0.2, clf__min_samples_split=0.1, clf__n_estimators=120, total=   2.1s\n",
      "[CV] clf__criterion=gini, clf__max_depth=4, clf__min_samples_leaf=0.2, clf__min_samples_split=0.1, clf__n_estimators=120 \n",
      "[CV]  clf__criterion=gini, clf__max_depth=4, clf__min_samples_leaf=0.2, clf__min_samples_split=0.1, clf__n_estimators=120, total=   2.3s\n",
      "[CV] clf__criterion=gini, clf__max_depth=4, clf__min_samples_leaf=0.2, clf__min_samples_split=0.1, clf__n_estimators=120 \n",
      "[CV]  clf__criterion=gini, clf__max_depth=4, clf__min_samples_leaf=0.2, clf__min_samples_split=0.1, clf__n_estimators=120, total=   2.3s\n",
      "[CV] clf__criterion=gini, clf__max_depth=4, clf__min_samples_leaf=0.2, clf__min_samples_split=0.2, clf__n_estimators=120 \n",
      "[CV]  clf__criterion=gini, clf__max_depth=4, clf__min_samples_leaf=0.2, clf__min_samples_split=0.2, clf__n_estimators=120, total=   2.1s\n",
      "[CV] clf__criterion=gini, clf__max_depth=4, clf__min_samples_leaf=0.2, clf__min_samples_split=0.2, clf__n_estimators=120 \n",
      "[CV]  clf__criterion=gini, clf__max_depth=4, clf__min_samples_leaf=0.2, clf__min_samples_split=0.2, clf__n_estimators=120, total=   2.1s\n",
      "[CV] clf__criterion=gini, clf__max_depth=4, clf__min_samples_leaf=0.2, clf__min_samples_split=0.2, clf__n_estimators=120 \n",
      "[CV]  clf__criterion=gini, clf__max_depth=4, clf__min_samples_leaf=0.2, clf__min_samples_split=0.2, clf__n_estimators=120, total=   2.1s\n",
      "[CV] clf__criterion=gini, clf__max_depth=5, clf__min_samples_leaf=0.05, clf__min_samples_split=0.05, clf__n_estimators=120 \n",
      "[CV]  clf__criterion=gini, clf__max_depth=5, clf__min_samples_leaf=0.05, clf__min_samples_split=0.05, clf__n_estimators=120, total=   4.4s\n",
      "[CV] clf__criterion=gini, clf__max_depth=5, clf__min_samples_leaf=0.05, clf__min_samples_split=0.05, clf__n_estimators=120 \n",
      "[CV]  clf__criterion=gini, clf__max_depth=5, clf__min_samples_leaf=0.05, clf__min_samples_split=0.05, clf__n_estimators=120, total=   4.8s\n",
      "[CV] clf__criterion=gini, clf__max_depth=5, clf__min_samples_leaf=0.05, clf__min_samples_split=0.05, clf__n_estimators=120 \n",
      "[CV]  clf__criterion=gini, clf__max_depth=5, clf__min_samples_leaf=0.05, clf__min_samples_split=0.05, clf__n_estimators=120, total=   4.8s\n",
      "[CV] clf__criterion=gini, clf__max_depth=5, clf__min_samples_leaf=0.05, clf__min_samples_split=0.1, clf__n_estimators=120 \n",
      "[CV]  clf__criterion=gini, clf__max_depth=5, clf__min_samples_leaf=0.05, clf__min_samples_split=0.1, clf__n_estimators=120, total=   4.8s\n",
      "[CV] clf__criterion=gini, clf__max_depth=5, clf__min_samples_leaf=0.05, clf__min_samples_split=0.1, clf__n_estimators=120 \n",
      "[CV]  clf__criterion=gini, clf__max_depth=5, clf__min_samples_leaf=0.05, clf__min_samples_split=0.1, clf__n_estimators=120, total=   4.6s\n",
      "[CV] clf__criterion=gini, clf__max_depth=5, clf__min_samples_leaf=0.05, clf__min_samples_split=0.1, clf__n_estimators=120 \n",
      "[CV]  clf__criterion=gini, clf__max_depth=5, clf__min_samples_leaf=0.05, clf__min_samples_split=0.1, clf__n_estimators=120, total=   4.4s\n",
      "[CV] clf__criterion=gini, clf__max_depth=5, clf__min_samples_leaf=0.05, clf__min_samples_split=0.2, clf__n_estimators=120 \n",
      "[CV]  clf__criterion=gini, clf__max_depth=5, clf__min_samples_leaf=0.05, clf__min_samples_split=0.2, clf__n_estimators=120, total=   3.8s\n",
      "[CV] clf__criterion=gini, clf__max_depth=5, clf__min_samples_leaf=0.05, clf__min_samples_split=0.2, clf__n_estimators=120 \n",
      "[CV]  clf__criterion=gini, clf__max_depth=5, clf__min_samples_leaf=0.05, clf__min_samples_split=0.2, clf__n_estimators=120, total=   3.7s\n",
      "[CV] clf__criterion=gini, clf__max_depth=5, clf__min_samples_leaf=0.05, clf__min_samples_split=0.2, clf__n_estimators=120 \n",
      "[CV]  clf__criterion=gini, clf__max_depth=5, clf__min_samples_leaf=0.05, clf__min_samples_split=0.2, clf__n_estimators=120, total=   3.8s\n",
      "[CV] clf__criterion=gini, clf__max_depth=5, clf__min_samples_leaf=0.1, clf__min_samples_split=0.05, clf__n_estimators=120 \n",
      "[CV]  clf__criterion=gini, clf__max_depth=5, clf__min_samples_leaf=0.1, clf__min_samples_split=0.05, clf__n_estimators=120, total=   3.2s\n",
      "[CV] clf__criterion=gini, clf__max_depth=5, clf__min_samples_leaf=0.1, clf__min_samples_split=0.05, clf__n_estimators=120 \n",
      "[CV]  clf__criterion=gini, clf__max_depth=5, clf__min_samples_leaf=0.1, clf__min_samples_split=0.05, clf__n_estimators=120, total=   3.0s\n",
      "[CV] clf__criterion=gini, clf__max_depth=5, clf__min_samples_leaf=0.1, clf__min_samples_split=0.05, clf__n_estimators=120 \n",
      "[CV]  clf__criterion=gini, clf__max_depth=5, clf__min_samples_leaf=0.1, clf__min_samples_split=0.05, clf__n_estimators=120, total=   3.1s\n",
      "[CV] clf__criterion=gini, clf__max_depth=5, clf__min_samples_leaf=0.1, clf__min_samples_split=0.1, clf__n_estimators=120 \n",
      "[CV]  clf__criterion=gini, clf__max_depth=5, clf__min_samples_leaf=0.1, clf__min_samples_split=0.1, clf__n_estimators=120, total=   3.6s\n",
      "[CV] clf__criterion=gini, clf__max_depth=5, clf__min_samples_leaf=0.1, clf__min_samples_split=0.1, clf__n_estimators=120 \n",
      "[CV]  clf__criterion=gini, clf__max_depth=5, clf__min_samples_leaf=0.1, clf__min_samples_split=0.1, clf__n_estimators=120, total=   3.6s\n",
      "[CV] clf__criterion=gini, clf__max_depth=5, clf__min_samples_leaf=0.1, clf__min_samples_split=0.1, clf__n_estimators=120 \n",
      "[CV]  clf__criterion=gini, clf__max_depth=5, clf__min_samples_leaf=0.1, clf__min_samples_split=0.1, clf__n_estimators=120, total=   3.3s\n",
      "[CV] clf__criterion=gini, clf__max_depth=5, clf__min_samples_leaf=0.1, clf__min_samples_split=0.2, clf__n_estimators=120 \n",
      "[CV]  clf__criterion=gini, clf__max_depth=5, clf__min_samples_leaf=0.1, clf__min_samples_split=0.2, clf__n_estimators=120, total=   3.3s\n",
      "[CV] clf__criterion=gini, clf__max_depth=5, clf__min_samples_leaf=0.1, clf__min_samples_split=0.2, clf__n_estimators=120 \n",
      "[CV]  clf__criterion=gini, clf__max_depth=5, clf__min_samples_leaf=0.1, clf__min_samples_split=0.2, clf__n_estimators=120, total=   3.6s\n",
      "[CV] clf__criterion=gini, clf__max_depth=5, clf__min_samples_leaf=0.1, clf__min_samples_split=0.2, clf__n_estimators=120 \n",
      "[CV]  clf__criterion=gini, clf__max_depth=5, clf__min_samples_leaf=0.1, clf__min_samples_split=0.2, clf__n_estimators=120, total=   4.1s\n",
      "[CV] clf__criterion=gini, clf__max_depth=5, clf__min_samples_leaf=0.2, clf__min_samples_split=0.05, clf__n_estimators=120 \n",
      "[CV]  clf__criterion=gini, clf__max_depth=5, clf__min_samples_leaf=0.2, clf__min_samples_split=0.05, clf__n_estimators=120, total=   2.3s\n",
      "[CV] clf__criterion=gini, clf__max_depth=5, clf__min_samples_leaf=0.2, clf__min_samples_split=0.05, clf__n_estimators=120 \n"
     ]
    },
    {
     "name": "stdout",
     "output_type": "stream",
     "text": [
      "[CV]  clf__criterion=gini, clf__max_depth=5, clf__min_samples_leaf=0.2, clf__min_samples_split=0.05, clf__n_estimators=120, total=   2.5s\n",
      "[CV] clf__criterion=gini, clf__max_depth=5, clf__min_samples_leaf=0.2, clf__min_samples_split=0.05, clf__n_estimators=120 \n",
      "[CV]  clf__criterion=gini, clf__max_depth=5, clf__min_samples_leaf=0.2, clf__min_samples_split=0.05, clf__n_estimators=120, total=   2.5s\n",
      "[CV] clf__criterion=gini, clf__max_depth=5, clf__min_samples_leaf=0.2, clf__min_samples_split=0.1, clf__n_estimators=120 \n",
      "[CV]  clf__criterion=gini, clf__max_depth=5, clf__min_samples_leaf=0.2, clf__min_samples_split=0.1, clf__n_estimators=120, total=   2.4s\n",
      "[CV] clf__criterion=gini, clf__max_depth=5, clf__min_samples_leaf=0.2, clf__min_samples_split=0.1, clf__n_estimators=120 \n",
      "[CV]  clf__criterion=gini, clf__max_depth=5, clf__min_samples_leaf=0.2, clf__min_samples_split=0.1, clf__n_estimators=120, total=   2.0s\n",
      "[CV] clf__criterion=gini, clf__max_depth=5, clf__min_samples_leaf=0.2, clf__min_samples_split=0.1, clf__n_estimators=120 \n",
      "[CV]  clf__criterion=gini, clf__max_depth=5, clf__min_samples_leaf=0.2, clf__min_samples_split=0.1, clf__n_estimators=120, total=   2.0s\n",
      "[CV] clf__criterion=gini, clf__max_depth=5, clf__min_samples_leaf=0.2, clf__min_samples_split=0.2, clf__n_estimators=120 \n",
      "[CV]  clf__criterion=gini, clf__max_depth=5, clf__min_samples_leaf=0.2, clf__min_samples_split=0.2, clf__n_estimators=120, total=   2.0s\n",
      "[CV] clf__criterion=gini, clf__max_depth=5, clf__min_samples_leaf=0.2, clf__min_samples_split=0.2, clf__n_estimators=120 \n",
      "[CV]  clf__criterion=gini, clf__max_depth=5, clf__min_samples_leaf=0.2, clf__min_samples_split=0.2, clf__n_estimators=120, total=   2.2s\n",
      "[CV] clf__criterion=gini, clf__max_depth=5, clf__min_samples_leaf=0.2, clf__min_samples_split=0.2, clf__n_estimators=120 \n",
      "[CV]  clf__criterion=gini, clf__max_depth=5, clf__min_samples_leaf=0.2, clf__min_samples_split=0.2, clf__n_estimators=120, total=   2.0s\n",
      "[CV] clf__criterion=gini, clf__max_depth=6, clf__min_samples_leaf=0.05, clf__min_samples_split=0.05, clf__n_estimators=120 \n",
      "[CV]  clf__criterion=gini, clf__max_depth=6, clf__min_samples_leaf=0.05, clf__min_samples_split=0.05, clf__n_estimators=120, total=   4.3s\n",
      "[CV] clf__criterion=gini, clf__max_depth=6, clf__min_samples_leaf=0.05, clf__min_samples_split=0.05, clf__n_estimators=120 \n",
      "[CV]  clf__criterion=gini, clf__max_depth=6, clf__min_samples_leaf=0.05, clf__min_samples_split=0.05, clf__n_estimators=120, total=   4.2s\n",
      "[CV] clf__criterion=gini, clf__max_depth=6, clf__min_samples_leaf=0.05, clf__min_samples_split=0.05, clf__n_estimators=120 \n",
      "[CV]  clf__criterion=gini, clf__max_depth=6, clf__min_samples_leaf=0.05, clf__min_samples_split=0.05, clf__n_estimators=120, total=   4.4s\n",
      "[CV] clf__criterion=gini, clf__max_depth=6, clf__min_samples_leaf=0.05, clf__min_samples_split=0.1, clf__n_estimators=120 \n",
      "[CV]  clf__criterion=gini, clf__max_depth=6, clf__min_samples_leaf=0.05, clf__min_samples_split=0.1, clf__n_estimators=120, total=   4.8s\n",
      "[CV] clf__criterion=gini, clf__max_depth=6, clf__min_samples_leaf=0.05, clf__min_samples_split=0.1, clf__n_estimators=120 \n",
      "[CV]  clf__criterion=gini, clf__max_depth=6, clf__min_samples_leaf=0.05, clf__min_samples_split=0.1, clf__n_estimators=120, total=   4.7s\n",
      "[CV] clf__criterion=gini, clf__max_depth=6, clf__min_samples_leaf=0.05, clf__min_samples_split=0.1, clf__n_estimators=120 \n",
      "[CV]  clf__criterion=gini, clf__max_depth=6, clf__min_samples_leaf=0.05, clf__min_samples_split=0.1, clf__n_estimators=120, total=   4.5s\n",
      "[CV] clf__criterion=gini, clf__max_depth=6, clf__min_samples_leaf=0.05, clf__min_samples_split=0.2, clf__n_estimators=120 \n",
      "[CV]  clf__criterion=gini, clf__max_depth=6, clf__min_samples_leaf=0.05, clf__min_samples_split=0.2, clf__n_estimators=120, total=   3.9s\n",
      "[CV] clf__criterion=gini, clf__max_depth=6, clf__min_samples_leaf=0.05, clf__min_samples_split=0.2, clf__n_estimators=120 \n",
      "[CV]  clf__criterion=gini, clf__max_depth=6, clf__min_samples_leaf=0.05, clf__min_samples_split=0.2, clf__n_estimators=120, total=   3.9s\n",
      "[CV] clf__criterion=gini, clf__max_depth=6, clf__min_samples_leaf=0.05, clf__min_samples_split=0.2, clf__n_estimators=120 \n",
      "[CV]  clf__criterion=gini, clf__max_depth=6, clf__min_samples_leaf=0.05, clf__min_samples_split=0.2, clf__n_estimators=120, total=   3.9s\n",
      "[CV] clf__criterion=gini, clf__max_depth=6, clf__min_samples_leaf=0.1, clf__min_samples_split=0.05, clf__n_estimators=120 \n",
      "[CV]  clf__criterion=gini, clf__max_depth=6, clf__min_samples_leaf=0.1, clf__min_samples_split=0.05, clf__n_estimators=120, total=   3.5s\n",
      "[CV] clf__criterion=gini, clf__max_depth=6, clf__min_samples_leaf=0.1, clf__min_samples_split=0.05, clf__n_estimators=120 \n",
      "[CV]  clf__criterion=gini, clf__max_depth=6, clf__min_samples_leaf=0.1, clf__min_samples_split=0.05, clf__n_estimators=120, total=   3.4s\n",
      "[CV] clf__criterion=gini, clf__max_depth=6, clf__min_samples_leaf=0.1, clf__min_samples_split=0.05, clf__n_estimators=120 \n",
      "[CV]  clf__criterion=gini, clf__max_depth=6, clf__min_samples_leaf=0.1, clf__min_samples_split=0.05, clf__n_estimators=120, total=   3.5s\n",
      "[CV] clf__criterion=gini, clf__max_depth=6, clf__min_samples_leaf=0.1, clf__min_samples_split=0.1, clf__n_estimators=120 \n",
      "[CV]  clf__criterion=gini, clf__max_depth=6, clf__min_samples_leaf=0.1, clf__min_samples_split=0.1, clf__n_estimators=120, total=   3.4s\n",
      "[CV] clf__criterion=gini, clf__max_depth=6, clf__min_samples_leaf=0.1, clf__min_samples_split=0.1, clf__n_estimators=120 \n",
      "[CV]  clf__criterion=gini, clf__max_depth=6, clf__min_samples_leaf=0.1, clf__min_samples_split=0.1, clf__n_estimators=120, total=   3.3s\n",
      "[CV] clf__criterion=gini, clf__max_depth=6, clf__min_samples_leaf=0.1, clf__min_samples_split=0.1, clf__n_estimators=120 \n",
      "[CV]  clf__criterion=gini, clf__max_depth=6, clf__min_samples_leaf=0.1, clf__min_samples_split=0.1, clf__n_estimators=120, total=   3.4s\n",
      "[CV] clf__criterion=gini, clf__max_depth=6, clf__min_samples_leaf=0.1, clf__min_samples_split=0.2, clf__n_estimators=120 \n",
      "[CV]  clf__criterion=gini, clf__max_depth=6, clf__min_samples_leaf=0.1, clf__min_samples_split=0.2, clf__n_estimators=120, total=   3.3s\n",
      "[CV] clf__criterion=gini, clf__max_depth=6, clf__min_samples_leaf=0.1, clf__min_samples_split=0.2, clf__n_estimators=120 \n",
      "[CV]  clf__criterion=gini, clf__max_depth=6, clf__min_samples_leaf=0.1, clf__min_samples_split=0.2, clf__n_estimators=120, total=   3.2s\n",
      "[CV] clf__criterion=gini, clf__max_depth=6, clf__min_samples_leaf=0.1, clf__min_samples_split=0.2, clf__n_estimators=120 \n",
      "[CV]  clf__criterion=gini, clf__max_depth=6, clf__min_samples_leaf=0.1, clf__min_samples_split=0.2, clf__n_estimators=120, total=   3.2s\n",
      "[CV] clf__criterion=gini, clf__max_depth=6, clf__min_samples_leaf=0.2, clf__min_samples_split=0.05, clf__n_estimators=120 \n",
      "[CV]  clf__criterion=gini, clf__max_depth=6, clf__min_samples_leaf=0.2, clf__min_samples_split=0.05, clf__n_estimators=120, total=   2.0s\n",
      "[CV] clf__criterion=gini, clf__max_depth=6, clf__min_samples_leaf=0.2, clf__min_samples_split=0.05, clf__n_estimators=120 \n",
      "[CV]  clf__criterion=gini, clf__max_depth=6, clf__min_samples_leaf=0.2, clf__min_samples_split=0.05, clf__n_estimators=120, total=   2.1s\n",
      "[CV] clf__criterion=gini, clf__max_depth=6, clf__min_samples_leaf=0.2, clf__min_samples_split=0.05, clf__n_estimators=120 \n",
      "[CV]  clf__criterion=gini, clf__max_depth=6, clf__min_samples_leaf=0.2, clf__min_samples_split=0.05, clf__n_estimators=120, total=   2.0s\n",
      "[CV] clf__criterion=gini, clf__max_depth=6, clf__min_samples_leaf=0.2, clf__min_samples_split=0.1, clf__n_estimators=120 \n",
      "[CV]  clf__criterion=gini, clf__max_depth=6, clf__min_samples_leaf=0.2, clf__min_samples_split=0.1, clf__n_estimators=120, total=   2.2s\n",
      "[CV] clf__criterion=gini, clf__max_depth=6, clf__min_samples_leaf=0.2, clf__min_samples_split=0.1, clf__n_estimators=120 \n",
      "[CV]  clf__criterion=gini, clf__max_depth=6, clf__min_samples_leaf=0.2, clf__min_samples_split=0.1, clf__n_estimators=120, total=   2.3s\n",
      "[CV] clf__criterion=gini, clf__max_depth=6, clf__min_samples_leaf=0.2, clf__min_samples_split=0.1, clf__n_estimators=120 \n",
      "[CV]  clf__criterion=gini, clf__max_depth=6, clf__min_samples_leaf=0.2, clf__min_samples_split=0.1, clf__n_estimators=120, total=   2.1s\n",
      "[CV] clf__criterion=gini, clf__max_depth=6, clf__min_samples_leaf=0.2, clf__min_samples_split=0.2, clf__n_estimators=120 \n"
     ]
    },
    {
     "name": "stdout",
     "output_type": "stream",
     "text": [
      "[CV]  clf__criterion=gini, clf__max_depth=6, clf__min_samples_leaf=0.2, clf__min_samples_split=0.2, clf__n_estimators=120, total=   2.1s\n",
      "[CV] clf__criterion=gini, clf__max_depth=6, clf__min_samples_leaf=0.2, clf__min_samples_split=0.2, clf__n_estimators=120 \n",
      "[CV]  clf__criterion=gini, clf__max_depth=6, clf__min_samples_leaf=0.2, clf__min_samples_split=0.2, clf__n_estimators=120, total=   2.2s\n",
      "[CV] clf__criterion=gini, clf__max_depth=6, clf__min_samples_leaf=0.2, clf__min_samples_split=0.2, clf__n_estimators=120 \n",
      "[CV]  clf__criterion=gini, clf__max_depth=6, clf__min_samples_leaf=0.2, clf__min_samples_split=0.2, clf__n_estimators=120, total=   2.1s\n"
     ]
    },
    {
     "name": "stderr",
     "output_type": "stream",
     "text": [
      "[Parallel(n_jobs=1)]: Done 162 out of 162 | elapsed: 13.1min finished\n"
     ]
    },
    {
     "name": "stdout",
     "output_type": "stream",
     "text": [
      "Best accuracy: 0.623\n",
      "\n",
      "Best params:\n",
      " {'clf__criterion': 'entropy', 'clf__max_depth': 5, 'clf__min_samples_leaf': 0.05, 'clf__min_samples_split': 0.1, 'clf__n_estimators': 120}\n"
     ]
    }
   ],
   "source": [
    "# Your code here\n",
    "# ⏰ This cell may take a long time to run!\n",
    "pipe_rf = Pipeline([('pca', PCA(n_components=27)), \n",
    "                    ('clf', RandomForestClassifier(random_state = 123))])\n",
    "\n",
    "param_grid_forest = [ \n",
    "  {'clf__n_estimators': [120],\n",
    "   'clf__criterion': ['entropy', 'gini'], \n",
    "   'clf__max_depth': [4, 5, 6],  \n",
    "   'clf__min_samples_leaf':[0.05 ,0.1, 0.2],  \n",
    "   'clf__min_samples_split':[0.05 ,0.1, 0.2]\n",
    "  }\n",
    "]\n",
    "\n",
    "gs_rf = GridSearchCV(estimator=pipe_rf, \n",
    "                     param_grid=param_grid_forest, \n",
    "                     scoring='accuracy', \n",
    "                     cv=3, verbose=2, return_train_score = True)\n",
    "\n",
    "gs_rf.fit(X_train, y_train)\n",
    "\n",
    "print('Best accuracy: %.3f' % gs_rf.best_score_)\n",
    "print('\\nBest params:\\n', gs_rf.best_params_)"
   ]
  },
  {
   "cell_type": "markdown",
   "metadata": {},
   "source": [
    "Use your grid search object along with `.cv_results` to get the full result overview"
   ]
  },
  {
   "cell_type": "code",
   "execution_count": 64,
   "metadata": {
    "ExecuteTime": {
     "end_time": "2020-10-14T04:34:00.981803Z",
     "start_time": "2020-10-14T04:34:00.957753Z"
    }
   },
   "outputs": [
    {
     "data": {
      "text/plain": [
       "{'mean_fit_time': array([8.10729599, 8.29467026, 7.2873644 , 5.49668336, 5.4497083 ,\n",
       "        5.47273429, 2.64644345, 2.6879979 , 2.67636466, 8.73529927,\n",
       "        8.96124458, 7.51935172, 5.55634149, 5.72083847, 6.06309883,\n",
       "        2.87935424, 2.7620066 , 2.87368846, 9.62850165, 9.29515203,\n",
       "        8.22202595, 5.66605957, 5.69867428, 5.62466383, 2.8196888 ,\n",
       "        2.73897338, 2.82232841, 4.11050359, 4.28175545, 3.68669701,\n",
       "        3.20341365, 3.19966229, 3.31164209, 2.09472068, 2.08668749,\n",
       "        2.01299882, 4.51801308, 4.4553407 , 3.63870438, 3.00204452,\n",
       "        3.34239395, 3.53502846, 2.29872751, 2.04843148, 1.95566591,\n",
       "        4.1693782 , 4.5306987 , 3.77458572, 3.31297358, 3.25293748,\n",
       "        3.08769512, 1.94870607, 2.09030128, 1.99501125]),\n",
       " 'std_fit_time': array([0.04575061, 0.16544937, 0.14374162, 0.076985  , 0.0884539 ,\n",
       "        0.02861999, 0.10340184, 0.06231124, 0.01099459, 0.04906521,\n",
       "        0.0842188 , 0.2723526 , 0.1186723 , 0.13694987, 0.14723595,\n",
       "        0.06937449, 0.02928628, 0.18173636, 0.23134493, 0.23955699,\n",
       "        0.1078953 , 0.11897712, 0.08676129, 0.03542834, 0.08778173,\n",
       "        0.10025129, 0.07673309, 0.03614138, 0.2902296 , 0.26135558,\n",
       "        0.07658554, 0.04584094, 0.12597926, 0.07742448, 0.09620574,\n",
       "        0.01059637, 0.17651136, 0.1775323 , 0.042648  , 0.07748778,\n",
       "        0.10196151, 0.35056499, 0.11339496, 0.2030081 , 0.08796944,\n",
       "        0.04820879, 0.13173707, 0.03068478, 0.09211833, 0.02937166,\n",
       "        0.03969184, 0.02709176, 0.08189675, 0.05628137]),\n",
       " 'mean_score_time': array([0.12027041, 0.12559303, 0.11965895, 0.13094187, 0.11730846,\n",
       "        0.12438416, 0.10030897, 0.13966727, 0.1123004 , 0.12766838,\n",
       "        0.13097564, 0.12464348, 0.11898788, 0.12163758, 0.14697282,\n",
       "        0.11997533, 0.1176335 , 0.10630798, 0.15099875, 0.14698696,\n",
       "        0.12328267, 0.13163908, 0.1359659 , 0.13260897, 0.11664057,\n",
       "        0.11660949, 0.11766791, 0.12399761, 0.13494436, 0.14028239,\n",
       "        0.12526282, 0.1280005 , 0.12461853, 0.12091923, 0.12194943,\n",
       "        0.11296638, 0.15295227, 0.14666287, 0.12757532, 0.11457364,\n",
       "        0.14760375, 0.1503009 , 0.13397551, 0.10326751, 0.10800163,\n",
       "        0.1272459 , 0.12728898, 0.12605286, 0.15665714, 0.13666709,\n",
       "        0.11824457, 0.10558216, 0.11766569, 0.10859911]),\n",
       " 'std_score_time': array([0.00617026, 0.00874924, 0.00790495, 0.01203278, 0.00449424,\n",
       "        0.00500802, 0.00048949, 0.01674009, 0.01068363, 0.00602172,\n",
       "        0.00212629, 0.00559064, 0.00422609, 0.00367943, 0.01744509,\n",
       "        0.01375772, 0.01662095, 0.00686731, 0.00141383, 0.0056992 ,\n",
       "        0.00616371, 0.00840631, 0.00700994, 0.01791486, 0.01363535,\n",
       "        0.01394827, 0.00590534, 0.00707162, 0.0118307 , 0.01349352,\n",
       "        0.01187268, 0.00616462, 0.012743  , 0.0151267 , 0.00569889,\n",
       "        0.01139748, 0.00214895, 0.01680991, 0.00661037, 0.00262308,\n",
       "        0.02820381, 0.01351959, 0.00451833, 0.00284468, 0.00162966,\n",
       "        0.00340929, 0.00290972, 0.00639616, 0.03497132, 0.01020762,\n",
       "        0.00694175, 0.00329166, 0.01052965, 0.00420001]),\n",
       " 'param_clf__criterion': masked_array(data=['entropy', 'entropy', 'entropy', 'entropy', 'entropy',\n",
       "                    'entropy', 'entropy', 'entropy', 'entropy', 'entropy',\n",
       "                    'entropy', 'entropy', 'entropy', 'entropy', 'entropy',\n",
       "                    'entropy', 'entropy', 'entropy', 'entropy', 'entropy',\n",
       "                    'entropy', 'entropy', 'entropy', 'entropy', 'entropy',\n",
       "                    'entropy', 'entropy', 'gini', 'gini', 'gini', 'gini',\n",
       "                    'gini', 'gini', 'gini', 'gini', 'gini', 'gini', 'gini',\n",
       "                    'gini', 'gini', 'gini', 'gini', 'gini', 'gini', 'gini',\n",
       "                    'gini', 'gini', 'gini', 'gini', 'gini', 'gini', 'gini',\n",
       "                    'gini', 'gini'],\n",
       "              mask=[False, False, False, False, False, False, False, False,\n",
       "                    False, False, False, False, False, False, False, False,\n",
       "                    False, False, False, False, False, False, False, False,\n",
       "                    False, False, False, False, False, False, False, False,\n",
       "                    False, False, False, False, False, False, False, False,\n",
       "                    False, False, False, False, False, False, False, False,\n",
       "                    False, False, False, False, False, False],\n",
       "        fill_value='?',\n",
       "             dtype=object),\n",
       " 'param_clf__max_depth': masked_array(data=[4, 4, 4, 4, 4, 4, 4, 4, 4, 5, 5, 5, 5, 5, 5, 5, 5, 5,\n",
       "                    6, 6, 6, 6, 6, 6, 6, 6, 6, 4, 4, 4, 4, 4, 4, 4, 4, 4,\n",
       "                    5, 5, 5, 5, 5, 5, 5, 5, 5, 6, 6, 6, 6, 6, 6, 6, 6, 6],\n",
       "              mask=[False, False, False, False, False, False, False, False,\n",
       "                    False, False, False, False, False, False, False, False,\n",
       "                    False, False, False, False, False, False, False, False,\n",
       "                    False, False, False, False, False, False, False, False,\n",
       "                    False, False, False, False, False, False, False, False,\n",
       "                    False, False, False, False, False, False, False, False,\n",
       "                    False, False, False, False, False, False],\n",
       "        fill_value='?',\n",
       "             dtype=object),\n",
       " 'param_clf__min_samples_leaf': masked_array(data=[0.05, 0.05, 0.05, 0.1, 0.1, 0.1, 0.2, 0.2, 0.2, 0.05,\n",
       "                    0.05, 0.05, 0.1, 0.1, 0.1, 0.2, 0.2, 0.2, 0.05, 0.05,\n",
       "                    0.05, 0.1, 0.1, 0.1, 0.2, 0.2, 0.2, 0.05, 0.05, 0.05,\n",
       "                    0.1, 0.1, 0.1, 0.2, 0.2, 0.2, 0.05, 0.05, 0.05, 0.1,\n",
       "                    0.1, 0.1, 0.2, 0.2, 0.2, 0.05, 0.05, 0.05, 0.1, 0.1,\n",
       "                    0.1, 0.2, 0.2, 0.2],\n",
       "              mask=[False, False, False, False, False, False, False, False,\n",
       "                    False, False, False, False, False, False, False, False,\n",
       "                    False, False, False, False, False, False, False, False,\n",
       "                    False, False, False, False, False, False, False, False,\n",
       "                    False, False, False, False, False, False, False, False,\n",
       "                    False, False, False, False, False, False, False, False,\n",
       "                    False, False, False, False, False, False],\n",
       "        fill_value='?',\n",
       "             dtype=object),\n",
       " 'param_clf__min_samples_split': masked_array(data=[0.05, 0.1, 0.2, 0.05, 0.1, 0.2, 0.05, 0.1, 0.2, 0.05,\n",
       "                    0.1, 0.2, 0.05, 0.1, 0.2, 0.05, 0.1, 0.2, 0.05, 0.1,\n",
       "                    0.2, 0.05, 0.1, 0.2, 0.05, 0.1, 0.2, 0.05, 0.1, 0.2,\n",
       "                    0.05, 0.1, 0.2, 0.05, 0.1, 0.2, 0.05, 0.1, 0.2, 0.05,\n",
       "                    0.1, 0.2, 0.05, 0.1, 0.2, 0.05, 0.1, 0.2, 0.05, 0.1,\n",
       "                    0.2, 0.05, 0.1, 0.2],\n",
       "              mask=[False, False, False, False, False, False, False, False,\n",
       "                    False, False, False, False, False, False, False, False,\n",
       "                    False, False, False, False, False, False, False, False,\n",
       "                    False, False, False, False, False, False, False, False,\n",
       "                    False, False, False, False, False, False, False, False,\n",
       "                    False, False, False, False, False, False, False, False,\n",
       "                    False, False, False, False, False, False],\n",
       "        fill_value='?',\n",
       "             dtype=object),\n",
       " 'param_clf__n_estimators': masked_array(data=[120, 120, 120, 120, 120, 120, 120, 120, 120, 120, 120,\n",
       "                    120, 120, 120, 120, 120, 120, 120, 120, 120, 120, 120,\n",
       "                    120, 120, 120, 120, 120, 120, 120, 120, 120, 120, 120,\n",
       "                    120, 120, 120, 120, 120, 120, 120, 120, 120, 120, 120,\n",
       "                    120, 120, 120, 120, 120, 120, 120, 120, 120, 120],\n",
       "              mask=[False, False, False, False, False, False, False, False,\n",
       "                    False, False, False, False, False, False, False, False,\n",
       "                    False, False, False, False, False, False, False, False,\n",
       "                    False, False, False, False, False, False, False, False,\n",
       "                    False, False, False, False, False, False, False, False,\n",
       "                    False, False, False, False, False, False, False, False,\n",
       "                    False, False, False, False, False, False],\n",
       "        fill_value='?',\n",
       "             dtype=object),\n",
       " 'params': [{'clf__criterion': 'entropy',\n",
       "   'clf__max_depth': 4,\n",
       "   'clf__min_samples_leaf': 0.05,\n",
       "   'clf__min_samples_split': 0.05,\n",
       "   'clf__n_estimators': 120},\n",
       "  {'clf__criterion': 'entropy',\n",
       "   'clf__max_depth': 4,\n",
       "   'clf__min_samples_leaf': 0.05,\n",
       "   'clf__min_samples_split': 0.1,\n",
       "   'clf__n_estimators': 120},\n",
       "  {'clf__criterion': 'entropy',\n",
       "   'clf__max_depth': 4,\n",
       "   'clf__min_samples_leaf': 0.05,\n",
       "   'clf__min_samples_split': 0.2,\n",
       "   'clf__n_estimators': 120},\n",
       "  {'clf__criterion': 'entropy',\n",
       "   'clf__max_depth': 4,\n",
       "   'clf__min_samples_leaf': 0.1,\n",
       "   'clf__min_samples_split': 0.05,\n",
       "   'clf__n_estimators': 120},\n",
       "  {'clf__criterion': 'entropy',\n",
       "   'clf__max_depth': 4,\n",
       "   'clf__min_samples_leaf': 0.1,\n",
       "   'clf__min_samples_split': 0.1,\n",
       "   'clf__n_estimators': 120},\n",
       "  {'clf__criterion': 'entropy',\n",
       "   'clf__max_depth': 4,\n",
       "   'clf__min_samples_leaf': 0.1,\n",
       "   'clf__min_samples_split': 0.2,\n",
       "   'clf__n_estimators': 120},\n",
       "  {'clf__criterion': 'entropy',\n",
       "   'clf__max_depth': 4,\n",
       "   'clf__min_samples_leaf': 0.2,\n",
       "   'clf__min_samples_split': 0.05,\n",
       "   'clf__n_estimators': 120},\n",
       "  {'clf__criterion': 'entropy',\n",
       "   'clf__max_depth': 4,\n",
       "   'clf__min_samples_leaf': 0.2,\n",
       "   'clf__min_samples_split': 0.1,\n",
       "   'clf__n_estimators': 120},\n",
       "  {'clf__criterion': 'entropy',\n",
       "   'clf__max_depth': 4,\n",
       "   'clf__min_samples_leaf': 0.2,\n",
       "   'clf__min_samples_split': 0.2,\n",
       "   'clf__n_estimators': 120},\n",
       "  {'clf__criterion': 'entropy',\n",
       "   'clf__max_depth': 5,\n",
       "   'clf__min_samples_leaf': 0.05,\n",
       "   'clf__min_samples_split': 0.05,\n",
       "   'clf__n_estimators': 120},\n",
       "  {'clf__criterion': 'entropy',\n",
       "   'clf__max_depth': 5,\n",
       "   'clf__min_samples_leaf': 0.05,\n",
       "   'clf__min_samples_split': 0.1,\n",
       "   'clf__n_estimators': 120},\n",
       "  {'clf__criterion': 'entropy',\n",
       "   'clf__max_depth': 5,\n",
       "   'clf__min_samples_leaf': 0.05,\n",
       "   'clf__min_samples_split': 0.2,\n",
       "   'clf__n_estimators': 120},\n",
       "  {'clf__criterion': 'entropy',\n",
       "   'clf__max_depth': 5,\n",
       "   'clf__min_samples_leaf': 0.1,\n",
       "   'clf__min_samples_split': 0.05,\n",
       "   'clf__n_estimators': 120},\n",
       "  {'clf__criterion': 'entropy',\n",
       "   'clf__max_depth': 5,\n",
       "   'clf__min_samples_leaf': 0.1,\n",
       "   'clf__min_samples_split': 0.1,\n",
       "   'clf__n_estimators': 120},\n",
       "  {'clf__criterion': 'entropy',\n",
       "   'clf__max_depth': 5,\n",
       "   'clf__min_samples_leaf': 0.1,\n",
       "   'clf__min_samples_split': 0.2,\n",
       "   'clf__n_estimators': 120},\n",
       "  {'clf__criterion': 'entropy',\n",
       "   'clf__max_depth': 5,\n",
       "   'clf__min_samples_leaf': 0.2,\n",
       "   'clf__min_samples_split': 0.05,\n",
       "   'clf__n_estimators': 120},\n",
       "  {'clf__criterion': 'entropy',\n",
       "   'clf__max_depth': 5,\n",
       "   'clf__min_samples_leaf': 0.2,\n",
       "   'clf__min_samples_split': 0.1,\n",
       "   'clf__n_estimators': 120},\n",
       "  {'clf__criterion': 'entropy',\n",
       "   'clf__max_depth': 5,\n",
       "   'clf__min_samples_leaf': 0.2,\n",
       "   'clf__min_samples_split': 0.2,\n",
       "   'clf__n_estimators': 120},\n",
       "  {'clf__criterion': 'entropy',\n",
       "   'clf__max_depth': 6,\n",
       "   'clf__min_samples_leaf': 0.05,\n",
       "   'clf__min_samples_split': 0.05,\n",
       "   'clf__n_estimators': 120},\n",
       "  {'clf__criterion': 'entropy',\n",
       "   'clf__max_depth': 6,\n",
       "   'clf__min_samples_leaf': 0.05,\n",
       "   'clf__min_samples_split': 0.1,\n",
       "   'clf__n_estimators': 120},\n",
       "  {'clf__criterion': 'entropy',\n",
       "   'clf__max_depth': 6,\n",
       "   'clf__min_samples_leaf': 0.05,\n",
       "   'clf__min_samples_split': 0.2,\n",
       "   'clf__n_estimators': 120},\n",
       "  {'clf__criterion': 'entropy',\n",
       "   'clf__max_depth': 6,\n",
       "   'clf__min_samples_leaf': 0.1,\n",
       "   'clf__min_samples_split': 0.05,\n",
       "   'clf__n_estimators': 120},\n",
       "  {'clf__criterion': 'entropy',\n",
       "   'clf__max_depth': 6,\n",
       "   'clf__min_samples_leaf': 0.1,\n",
       "   'clf__min_samples_split': 0.1,\n",
       "   'clf__n_estimators': 120},\n",
       "  {'clf__criterion': 'entropy',\n",
       "   'clf__max_depth': 6,\n",
       "   'clf__min_samples_leaf': 0.1,\n",
       "   'clf__min_samples_split': 0.2,\n",
       "   'clf__n_estimators': 120},\n",
       "  {'clf__criterion': 'entropy',\n",
       "   'clf__max_depth': 6,\n",
       "   'clf__min_samples_leaf': 0.2,\n",
       "   'clf__min_samples_split': 0.05,\n",
       "   'clf__n_estimators': 120},\n",
       "  {'clf__criterion': 'entropy',\n",
       "   'clf__max_depth': 6,\n",
       "   'clf__min_samples_leaf': 0.2,\n",
       "   'clf__min_samples_split': 0.1,\n",
       "   'clf__n_estimators': 120},\n",
       "  {'clf__criterion': 'entropy',\n",
       "   'clf__max_depth': 6,\n",
       "   'clf__min_samples_leaf': 0.2,\n",
       "   'clf__min_samples_split': 0.2,\n",
       "   'clf__n_estimators': 120},\n",
       "  {'clf__criterion': 'gini',\n",
       "   'clf__max_depth': 4,\n",
       "   'clf__min_samples_leaf': 0.05,\n",
       "   'clf__min_samples_split': 0.05,\n",
       "   'clf__n_estimators': 120},\n",
       "  {'clf__criterion': 'gini',\n",
       "   'clf__max_depth': 4,\n",
       "   'clf__min_samples_leaf': 0.05,\n",
       "   'clf__min_samples_split': 0.1,\n",
       "   'clf__n_estimators': 120},\n",
       "  {'clf__criterion': 'gini',\n",
       "   'clf__max_depth': 4,\n",
       "   'clf__min_samples_leaf': 0.05,\n",
       "   'clf__min_samples_split': 0.2,\n",
       "   'clf__n_estimators': 120},\n",
       "  {'clf__criterion': 'gini',\n",
       "   'clf__max_depth': 4,\n",
       "   'clf__min_samples_leaf': 0.1,\n",
       "   'clf__min_samples_split': 0.05,\n",
       "   'clf__n_estimators': 120},\n",
       "  {'clf__criterion': 'gini',\n",
       "   'clf__max_depth': 4,\n",
       "   'clf__min_samples_leaf': 0.1,\n",
       "   'clf__min_samples_split': 0.1,\n",
       "   'clf__n_estimators': 120},\n",
       "  {'clf__criterion': 'gini',\n",
       "   'clf__max_depth': 4,\n",
       "   'clf__min_samples_leaf': 0.1,\n",
       "   'clf__min_samples_split': 0.2,\n",
       "   'clf__n_estimators': 120},\n",
       "  {'clf__criterion': 'gini',\n",
       "   'clf__max_depth': 4,\n",
       "   'clf__min_samples_leaf': 0.2,\n",
       "   'clf__min_samples_split': 0.05,\n",
       "   'clf__n_estimators': 120},\n",
       "  {'clf__criterion': 'gini',\n",
       "   'clf__max_depth': 4,\n",
       "   'clf__min_samples_leaf': 0.2,\n",
       "   'clf__min_samples_split': 0.1,\n",
       "   'clf__n_estimators': 120},\n",
       "  {'clf__criterion': 'gini',\n",
       "   'clf__max_depth': 4,\n",
       "   'clf__min_samples_leaf': 0.2,\n",
       "   'clf__min_samples_split': 0.2,\n",
       "   'clf__n_estimators': 120},\n",
       "  {'clf__criterion': 'gini',\n",
       "   'clf__max_depth': 5,\n",
       "   'clf__min_samples_leaf': 0.05,\n",
       "   'clf__min_samples_split': 0.05,\n",
       "   'clf__n_estimators': 120},\n",
       "  {'clf__criterion': 'gini',\n",
       "   'clf__max_depth': 5,\n",
       "   'clf__min_samples_leaf': 0.05,\n",
       "   'clf__min_samples_split': 0.1,\n",
       "   'clf__n_estimators': 120},\n",
       "  {'clf__criterion': 'gini',\n",
       "   'clf__max_depth': 5,\n",
       "   'clf__min_samples_leaf': 0.05,\n",
       "   'clf__min_samples_split': 0.2,\n",
       "   'clf__n_estimators': 120},\n",
       "  {'clf__criterion': 'gini',\n",
       "   'clf__max_depth': 5,\n",
       "   'clf__min_samples_leaf': 0.1,\n",
       "   'clf__min_samples_split': 0.05,\n",
       "   'clf__n_estimators': 120},\n",
       "  {'clf__criterion': 'gini',\n",
       "   'clf__max_depth': 5,\n",
       "   'clf__min_samples_leaf': 0.1,\n",
       "   'clf__min_samples_split': 0.1,\n",
       "   'clf__n_estimators': 120},\n",
       "  {'clf__criterion': 'gini',\n",
       "   'clf__max_depth': 5,\n",
       "   'clf__min_samples_leaf': 0.1,\n",
       "   'clf__min_samples_split': 0.2,\n",
       "   'clf__n_estimators': 120},\n",
       "  {'clf__criterion': 'gini',\n",
       "   'clf__max_depth': 5,\n",
       "   'clf__min_samples_leaf': 0.2,\n",
       "   'clf__min_samples_split': 0.05,\n",
       "   'clf__n_estimators': 120},\n",
       "  {'clf__criterion': 'gini',\n",
       "   'clf__max_depth': 5,\n",
       "   'clf__min_samples_leaf': 0.2,\n",
       "   'clf__min_samples_split': 0.1,\n",
       "   'clf__n_estimators': 120},\n",
       "  {'clf__criterion': 'gini',\n",
       "   'clf__max_depth': 5,\n",
       "   'clf__min_samples_leaf': 0.2,\n",
       "   'clf__min_samples_split': 0.2,\n",
       "   'clf__n_estimators': 120},\n",
       "  {'clf__criterion': 'gini',\n",
       "   'clf__max_depth': 6,\n",
       "   'clf__min_samples_leaf': 0.05,\n",
       "   'clf__min_samples_split': 0.05,\n",
       "   'clf__n_estimators': 120},\n",
       "  {'clf__criterion': 'gini',\n",
       "   'clf__max_depth': 6,\n",
       "   'clf__min_samples_leaf': 0.05,\n",
       "   'clf__min_samples_split': 0.1,\n",
       "   'clf__n_estimators': 120},\n",
       "  {'clf__criterion': 'gini',\n",
       "   'clf__max_depth': 6,\n",
       "   'clf__min_samples_leaf': 0.05,\n",
       "   'clf__min_samples_split': 0.2,\n",
       "   'clf__n_estimators': 120},\n",
       "  {'clf__criterion': 'gini',\n",
       "   'clf__max_depth': 6,\n",
       "   'clf__min_samples_leaf': 0.1,\n",
       "   'clf__min_samples_split': 0.05,\n",
       "   'clf__n_estimators': 120},\n",
       "  {'clf__criterion': 'gini',\n",
       "   'clf__max_depth': 6,\n",
       "   'clf__min_samples_leaf': 0.1,\n",
       "   'clf__min_samples_split': 0.1,\n",
       "   'clf__n_estimators': 120},\n",
       "  {'clf__criterion': 'gini',\n",
       "   'clf__max_depth': 6,\n",
       "   'clf__min_samples_leaf': 0.1,\n",
       "   'clf__min_samples_split': 0.2,\n",
       "   'clf__n_estimators': 120},\n",
       "  {'clf__criterion': 'gini',\n",
       "   'clf__max_depth': 6,\n",
       "   'clf__min_samples_leaf': 0.2,\n",
       "   'clf__min_samples_split': 0.05,\n",
       "   'clf__n_estimators': 120},\n",
       "  {'clf__criterion': 'gini',\n",
       "   'clf__max_depth': 6,\n",
       "   'clf__min_samples_leaf': 0.2,\n",
       "   'clf__min_samples_split': 0.1,\n",
       "   'clf__n_estimators': 120},\n",
       "  {'clf__criterion': 'gini',\n",
       "   'clf__max_depth': 6,\n",
       "   'clf__min_samples_leaf': 0.2,\n",
       "   'clf__min_samples_split': 0.2,\n",
       "   'clf__n_estimators': 120}],\n",
       " 'split0_test_score': array([0.61611183, 0.61659664, 0.55534906, 0.50202004, 0.50395928,\n",
       "        0.50395928, 0.44537815, 0.44537815, 0.44529735, 0.62112153,\n",
       "        0.62338397, 0.55559147, 0.50290886, 0.50355527, 0.50315126,\n",
       "        0.44545895, 0.44570136, 0.44521655, 0.62176794, 0.62168714,\n",
       "        0.55631868, 0.50218164, 0.50218164, 0.50250485, 0.44521655,\n",
       "        0.44570136, 0.44562056, 0.61199095, 0.61279897, 0.56544926,\n",
       "        0.51454428, 0.51494829, 0.51462508, 0.44578216, 0.44553975,\n",
       "        0.44586296, 0.61869748, 0.61861668, 0.56706529, 0.5158371 ,\n",
       "        0.51454428, 0.51405947, 0.44473174, 0.44521655, 0.44578216,\n",
       "        0.62192954, 0.62079832, 0.56666128, 0.51470588, 0.51486749,\n",
       "        0.5157563 , 0.44392372, 0.44529735, 0.44562056]),\n",
       " 'split1_test_score': array([0.61858586, 0.6189899 , 0.55927273, 0.48452525, 0.48315152,\n",
       "        0.4829899 , 0.43919192, 0.4390303 , 0.43919192, 0.6199596 ,\n",
       "        0.62125253, 0.56517172, 0.48517172, 0.48630303, 0.48549495,\n",
       "        0.43927273, 0.43919192, 0.43951515, 0.62117172, 0.62165657,\n",
       "        0.56606061, 0.48670707, 0.48412121, 0.48234343, 0.43927273,\n",
       "        0.43943434, 0.43684848, 0.60468687, 0.60307071, 0.53147475,\n",
       "        0.48864646, 0.4900202 , 0.48888889, 0.44258586, 0.4420202 ,\n",
       "        0.44185859, 0.61131313, 0.60929293, 0.54278788, 0.4889697 ,\n",
       "        0.48977778, 0.49163636, 0.44193939, 0.44274747, 0.44274747,\n",
       "        0.61090909, 0.61155556, 0.54456566, 0.48921212, 0.48872727,\n",
       "        0.48961616, 0.44266667, 0.44266667, 0.44218182]),\n",
       " 'split2_test_score': array([0.61745455, 0.61680808, 0.56557576, 0.51684848, 0.51838384,\n",
       "        0.51579798, 0.44759596, 0.44743434, 0.44719192, 0.62432323,\n",
       "        0.62440404, 0.56727273, 0.51814141, 0.51935354, 0.51676768,\n",
       "        0.44694949, 0.44743434, 0.44727273, 0.62561616, 0.62319192,\n",
       "        0.56856566, 0.51490909, 0.51579798, 0.51757576, 0.44727273,\n",
       "        0.44686869, 0.4470303 , 0.60290909, 0.6050101 , 0.55814141,\n",
       "        0.51717172, 0.51725253, 0.51862626, 0.43717172, 0.43636364,\n",
       "        0.43644444, 0.62206061, 0.62286869, 0.56484848, 0.51911111,\n",
       "        0.5179798 , 0.51878788, 0.4379798 , 0.43628283, 0.43676768,\n",
       "        0.62521212, 0.62505051, 0.56832323, 0.51838384, 0.51991919,\n",
       "        0.51983838, 0.4370101 , 0.43644444, 0.4370101 ]),\n",
       " 'mean_test_score': array([0.61738408, 0.61746487, 0.56006585, 0.50113126, 0.50183154,\n",
       "        0.50091572, 0.44405534, 0.4439476 , 0.44389373, 0.62180145,\n",
       "        0.62301351, 0.56267864, 0.502074  , 0.50307061, 0.50180463,\n",
       "        0.44389373, 0.44410921, 0.44400148, 0.62285194, 0.62217854,\n",
       "        0.56364831, 0.50126593, 0.50070028, 0.50080801, 0.44392067,\n",
       "        0.44400146, 0.44316645, 0.60652897, 0.60695992, 0.55168847,\n",
       "        0.50678749, 0.507407  , 0.50738008, 0.44184658, 0.44130786,\n",
       "        0.44138866, 0.61735707, 0.6169261 , 0.55823388, 0.50797264,\n",
       "        0.50743395, 0.50816124, 0.44155031, 0.44141562, 0.44176577,\n",
       "        0.61935025, 0.61913479, 0.55985006, 0.50743395, 0.50783798,\n",
       "        0.50840362, 0.44120016, 0.44146949, 0.44160416]),\n",
       " 'std_test_score': array([0.00101125, 0.00108181, 0.00421253, 0.01321086, 0.01446201,\n",
       "        0.01356564, 0.00355615, 0.00357695, 0.00341346, 0.00184518,\n",
       "        0.001313  , 0.00508426, 0.01347276, 0.01349716, 0.0128025 ,\n",
       "        0.00332372, 0.0035483 , 0.00328149, 0.0019697 , 0.00071668,\n",
       "        0.00528277, 0.01153162, 0.01297434, 0.01443349, 0.0033921 ,\n",
       "        0.00326441, 0.00450439, 0.0039298 , 0.00420405, 0.0146013 ,\n",
       "        0.01287241, 0.01233026, 0.01317688, 0.00355386, 0.00377985,\n",
       "        0.00385942, 0.00448884, 0.00566974, 0.01095941, 0.01350342,\n",
       "        0.01256333, 0.01184323, 0.00277016, 0.0037668 , 0.00374504,\n",
       "        0.00611739, 0.00563347, 0.01082898, 0.01297197, 0.01366978,\n",
       "        0.01338886, 0.00300694, 0.003712  , 0.00353886]),\n",
       " 'rank_test_score': array([ 8,  7, 15, 33, 30, 34, 38, 41, 43,  4,  1, 14, 29, 28, 31, 44, 37,\n",
       "        39,  2,  3, 13, 32, 36, 35, 42, 40, 45, 12, 11, 18, 27, 25, 26, 46,\n",
       "        53, 52,  9, 10, 17, 21, 23, 20, 49, 51, 47,  5,  6, 16, 24, 22, 19,\n",
       "        54, 50, 48]),\n",
       " 'split0_train_score': array([0.61919192, 0.61967677, 0.56420202, 0.50844444, 0.50848485,\n",
       "        0.50937374, 0.44476768, 0.44428283, 0.44484848, 0.62549495,\n",
       "        0.62674747, 0.56476768, 0.50808081, 0.50840404, 0.50860606,\n",
       "        0.44468687, 0.44472727, 0.44456566, 0.62610101, 0.62589899,\n",
       "        0.56509091, 0.50783838, 0.50852525, 0.50791919, 0.44468687,\n",
       "        0.44460606, 0.44480808, 0.6139798 , 0.61490909, 0.56969697,\n",
       "        0.51987879, 0.51991919, 0.51951515, 0.44674747, 0.44682828,\n",
       "        0.44686869, 0.62129293, 0.62064646, 0.57236364, 0.51915152,\n",
       "        0.51826263, 0.52024242, 0.44642424, 0.44626263, 0.4470303 ,\n",
       "        0.62286869, 0.62149495, 0.57183838, 0.51886869, 0.51983838,\n",
       "        0.51951515, 0.44513131, 0.44686869, 0.44682828]),\n",
       " 'split1_train_score': array([0.61734879, 0.61605592, 0.55819967, 0.48394004, 0.48216234,\n",
       "        0.48240475, 0.4396186 , 0.4395378 , 0.43973981, 0.61888409,\n",
       "        0.61791443, 0.56405802, 0.4849097 , 0.48587936, 0.48515212,\n",
       "        0.439659  , 0.4396186 , 0.44006303, 0.61949012, 0.62094461,\n",
       "        0.56470446, 0.48551574, 0.48377843, 0.48224314, 0.439659  ,\n",
       "        0.43973981, 0.4378409 , 0.60385439, 0.60264232, 0.52765545,\n",
       "        0.48757626, 0.48890954, 0.48749545, 0.4430124 , 0.44244677,\n",
       "        0.44260838, 0.60914711, 0.60858147, 0.53973577, 0.48773787,\n",
       "        0.48963678, 0.49008121, 0.44252757, 0.4429316 , 0.4428912 ,\n",
       "        0.6123793 , 0.6123793 , 0.54009939, 0.48765706, 0.48692982,\n",
       "        0.4882227 , 0.4428912 , 0.44337603, 0.44256798]),\n",
       " 'split2_train_score': array([0.61759121, 0.61730839, 0.5619975 , 0.51028241, 0.51060563,\n",
       "        0.50979758, 0.44600218, 0.44571936, 0.44539615, 0.62551008,\n",
       "        0.62490404, 0.56409842, 0.51080764, 0.51238334, 0.51080764,\n",
       "        0.44551735, 0.44584057, 0.44571936, 0.62603531, 0.62401519,\n",
       "        0.56434083, 0.50902994, 0.51052483, 0.51133288, 0.44555776,\n",
       "        0.44559816, 0.44539615, 0.604016  , 0.60547049, 0.55904812,\n",
       "        0.51496909, 0.51480748, 0.51638318, 0.43711365, 0.4363056 ,\n",
       "        0.4362248 , 0.62151024, 0.62159105, 0.56664377, 0.51642358,\n",
       "        0.51553473, 0.51610036, 0.43739647, 0.43642681, 0.43662882,\n",
       "        0.62365157, 0.62381318, 0.56975476, 0.5167468 , 0.51702961,\n",
       "        0.51747404, 0.43691164, 0.43658842, 0.43711365]),\n",
       " 'mean_train_score': array([0.61804397, 0.61768036, 0.56146639, 0.50088897, 0.50041761,\n",
       "        0.50052536, 0.44346282, 0.44318   , 0.44332815, 0.62329637,\n",
       "        0.62318865, 0.56430804, 0.50126605, 0.50222225, 0.50152194,\n",
       "        0.44328774, 0.44339548, 0.44344935, 0.62387548, 0.6236196 ,\n",
       "        0.56471207, 0.50079469, 0.50094284, 0.5004984 , 0.44330121,\n",
       "        0.44331468, 0.44268171, 0.6072834 , 0.60767396, 0.55213351,\n",
       "        0.50747471, 0.50787874, 0.50779793, 0.44229118, 0.44186022,\n",
       "        0.44190062, 0.61731676, 0.61693966, 0.55958106, 0.50777099,\n",
       "        0.50781138, 0.508808  , 0.4421161 , 0.44187368, 0.44218344,\n",
       "        0.61963318, 0.61922914, 0.56056418, 0.50775752, 0.50793261,\n",
       "        0.50840396, 0.44164472, 0.44227771, 0.44216997]),\n",
       " 'std_train_score': array([0.00081773, 0.00150142, 0.00247906, 0.01200817, 0.01293743,\n",
       "        0.01281437, 0.0027646 , 0.00264135, 0.00254717, 0.00311996,\n",
       "        0.00380461, 0.00032543, 0.01161914, 0.0116698 , 0.01161006,\n",
       "        0.00258821, 0.00270906, 0.00244037, 0.00310103, 0.00204187,\n",
       "        0.00030626, 0.01081479, 0.01216449, 0.01298343, 0.00259985,\n",
       "        0.00256005, 0.00343138, 0.00473553, 0.00524467, 0.01784622,\n",
       "        0.01421238, 0.01357462, 0.01441284, 0.00396592, 0.00431584,\n",
       "        0.00437407, 0.0057775 , 0.0059227 , 0.0142257 , 0.01420926,\n",
       "        0.01289954, 0.01334937, 0.00369704, 0.00408454, 0.00427578,\n",
       "        0.00513922, 0.00493517, 0.01449577, 0.01423954, 0.01489541,\n",
       "        0.01429462, 0.00346949, 0.00426815, 0.00397595])}"
      ]
     },
     "execution_count": 64,
     "metadata": {},
     "output_type": "execute_result"
    }
   ],
   "source": [
    "# Your code here \n",
    "gs_rf.cv_results_"
   ]
  },
  {
   "cell_type": "markdown",
   "metadata": {},
   "source": [
    "### AdaBoost"
   ]
  },
  {
   "cell_type": "code",
   "execution_count": 65,
   "metadata": {
    "ExecuteTime": {
     "end_time": "2020-10-14T04:37:14.235946Z",
     "start_time": "2020-10-14T04:34:00.983755Z"
    }
   },
   "outputs": [
    {
     "name": "stdout",
     "output_type": "stream",
     "text": [
      "Fitting 3 folds for each of 9 candidates, totalling 27 fits\n",
      "[CV] clf__learning_rate=1.0, clf__n_estimators=30 ....................\n"
     ]
    },
    {
     "name": "stderr",
     "output_type": "stream",
     "text": [
      "[Parallel(n_jobs=1)]: Using backend SequentialBackend with 1 concurrent workers.\n"
     ]
    },
    {
     "name": "stdout",
     "output_type": "stream",
     "text": [
      "[CV] ..... clf__learning_rate=1.0, clf__n_estimators=30, total=   4.0s\n",
      "[CV] clf__learning_rate=1.0, clf__n_estimators=30 ....................\n"
     ]
    },
    {
     "name": "stderr",
     "output_type": "stream",
     "text": [
      "[Parallel(n_jobs=1)]: Done   1 out of   1 | elapsed:    4.2s remaining:    0.0s\n"
     ]
    },
    {
     "name": "stdout",
     "output_type": "stream",
     "text": [
      "[CV] ..... clf__learning_rate=1.0, clf__n_estimators=30, total=   4.0s\n",
      "[CV] clf__learning_rate=1.0, clf__n_estimators=30 ....................\n",
      "[CV] ..... clf__learning_rate=1.0, clf__n_estimators=30, total=   4.1s\n",
      "[CV] clf__learning_rate=1.0, clf__n_estimators=50 ....................\n",
      "[CV] ..... clf__learning_rate=1.0, clf__n_estimators=50, total=   6.5s\n",
      "[CV] clf__learning_rate=1.0, clf__n_estimators=50 ....................\n",
      "[CV] ..... clf__learning_rate=1.0, clf__n_estimators=50, total=   6.5s\n",
      "[CV] clf__learning_rate=1.0, clf__n_estimators=50 ....................\n",
      "[CV] ..... clf__learning_rate=1.0, clf__n_estimators=50, total=   6.2s\n",
      "[CV] clf__learning_rate=1.0, clf__n_estimators=70 ....................\n",
      "[CV] ..... clf__learning_rate=1.0, clf__n_estimators=70, total=   8.6s\n",
      "[CV] clf__learning_rate=1.0, clf__n_estimators=70 ....................\n",
      "[CV] ..... clf__learning_rate=1.0, clf__n_estimators=70, total=   8.9s\n",
      "[CV] clf__learning_rate=1.0, clf__n_estimators=70 ....................\n",
      "[CV] ..... clf__learning_rate=1.0, clf__n_estimators=70, total=   8.8s\n",
      "[CV] clf__learning_rate=0.5, clf__n_estimators=30 ....................\n",
      "[CV] ..... clf__learning_rate=0.5, clf__n_estimators=30, total=   4.0s\n",
      "[CV] clf__learning_rate=0.5, clf__n_estimators=30 ....................\n",
      "[CV] ..... clf__learning_rate=0.5, clf__n_estimators=30, total=   3.9s\n",
      "[CV] clf__learning_rate=0.5, clf__n_estimators=30 ....................\n",
      "[CV] ..... clf__learning_rate=0.5, clf__n_estimators=30, total=   3.9s\n",
      "[CV] clf__learning_rate=0.5, clf__n_estimators=50 ....................\n",
      "[CV] ..... clf__learning_rate=0.5, clf__n_estimators=50, total=   6.1s\n",
      "[CV] clf__learning_rate=0.5, clf__n_estimators=50 ....................\n",
      "[CV] ..... clf__learning_rate=0.5, clf__n_estimators=50, total=   6.5s\n",
      "[CV] clf__learning_rate=0.5, clf__n_estimators=50 ....................\n",
      "[CV] ..... clf__learning_rate=0.5, clf__n_estimators=50, total=   6.3s\n",
      "[CV] clf__learning_rate=0.5, clf__n_estimators=70 ....................\n",
      "[CV] ..... clf__learning_rate=0.5, clf__n_estimators=70, total=   8.6s\n",
      "[CV] clf__learning_rate=0.5, clf__n_estimators=70 ....................\n",
      "[CV] ..... clf__learning_rate=0.5, clf__n_estimators=70, total=   9.3s\n",
      "[CV] clf__learning_rate=0.5, clf__n_estimators=70 ....................\n",
      "[CV] ..... clf__learning_rate=0.5, clf__n_estimators=70, total=   9.2s\n",
      "[CV] clf__learning_rate=0.1, clf__n_estimators=30 ....................\n",
      "[CV] ..... clf__learning_rate=0.1, clf__n_estimators=30, total=   4.1s\n",
      "[CV] clf__learning_rate=0.1, clf__n_estimators=30 ....................\n",
      "[CV] ..... clf__learning_rate=0.1, clf__n_estimators=30, total=   3.9s\n",
      "[CV] clf__learning_rate=0.1, clf__n_estimators=30 ....................\n",
      "[CV] ..... clf__learning_rate=0.1, clf__n_estimators=30, total=   3.8s\n",
      "[CV] clf__learning_rate=0.1, clf__n_estimators=50 ....................\n",
      "[CV] ..... clf__learning_rate=0.1, clf__n_estimators=50, total=   6.1s\n",
      "[CV] clf__learning_rate=0.1, clf__n_estimators=50 ....................\n",
      "[CV] ..... clf__learning_rate=0.1, clf__n_estimators=50, total=   6.1s\n",
      "[CV] clf__learning_rate=0.1, clf__n_estimators=50 ....................\n",
      "[CV] ..... clf__learning_rate=0.1, clf__n_estimators=50, total=   6.4s\n",
      "[CV] clf__learning_rate=0.1, clf__n_estimators=70 ....................\n",
      "[CV] ..... clf__learning_rate=0.1, clf__n_estimators=70, total=   8.7s\n",
      "[CV] clf__learning_rate=0.1, clf__n_estimators=70 ....................\n",
      "[CV] ..... clf__learning_rate=0.1, clf__n_estimators=70, total=   8.9s\n",
      "[CV] clf__learning_rate=0.1, clf__n_estimators=70 ....................\n",
      "[CV] ..... clf__learning_rate=0.1, clf__n_estimators=70, total=   8.9s\n"
     ]
    },
    {
     "name": "stderr",
     "output_type": "stream",
     "text": [
      "[Parallel(n_jobs=1)]: Done  27 out of  27 | elapsed:  3.1min finished\n"
     ]
    },
    {
     "name": "stdout",
     "output_type": "stream",
     "text": [
      "Best accuracy: 0.659\n",
      "\n",
      "Best params:\n",
      " {'clf__learning_rate': 0.5, 'clf__n_estimators': 50}\n"
     ]
    }
   ],
   "source": [
    "# Your code here\n",
    "# ⏰ This cell may take several minutes to run\n",
    "\n",
    "from sklearn.ensemble import AdaBoostClassifier\n",
    "# Construct pipeline\n",
    "pipe_ab = Pipeline([('pca', PCA(n_components=27)), \n",
    "                    ('clf', AdaBoostClassifier(random_state = 123))])\n",
    "\n",
    "# Set grid search params\n",
    "adaboost_param_grid = {\n",
    "    'clf__n_estimators': [30, 50, 70],\n",
    "    'clf__learning_rate': [1.0, 0.5, 0.1]\n",
    "}\n",
    "\n",
    "# Construct grid search\n",
    "gs_ab = GridSearchCV(estimator=pipe_ab,\n",
    "            param_grid=adaboost_param_grid,\n",
    "            scoring='accuracy',\n",
    "            cv=3, verbose=2, return_train_score = True)\n",
    "\n",
    "# Fit using grid search\n",
    "gs_ab.fit(X_train, y_train)\n",
    "\n",
    "# Best accuracy\n",
    "print('Best accuracy: %.3f' % gs_ab.best_score_)\n",
    "\n",
    "# Best params\n",
    "print('\\nBest params:\\n', gs_ab.best_params_)"
   ]
  },
  {
   "cell_type": "markdown",
   "metadata": {},
   "source": [
    "Use your grid search object along with `.cv_results` to get the full result overview: "
   ]
  },
  {
   "cell_type": "code",
   "execution_count": 66,
   "metadata": {
    "ExecuteTime": {
     "end_time": "2020-10-14T04:37:14.244948Z",
     "start_time": "2020-10-14T04:37:14.237947Z"
    }
   },
   "outputs": [
    {
     "data": {
      "text/plain": [
       "{'mean_fit_time': array([3.94725625, 6.23342657, 8.57299368, 3.87236007, 6.14952866,\n",
       "        8.85849524, 3.84643348, 6.04505189, 8.64369114]),\n",
       " 'std_fit_time': array([0.00762189, 0.14611072, 0.08698305, 0.03227314, 0.15403914,\n",
       "        0.29279831, 0.10137415, 0.11914217, 0.14706566]),\n",
       " 'mean_score_time': array([0.10162528, 0.13926514, 0.18799917, 0.09096996, 0.13963501,\n",
       "        0.18923513, 0.09392118, 0.13827682, 0.19096907]),\n",
       " 'std_score_time': array([0.01037467, 0.00386226, 0.00431992, 0.0035426 , 0.0061977 ,\n",
       "        0.01166291, 0.00572007, 0.0041642 , 0.01730864]),\n",
       " 'param_clf__learning_rate': masked_array(data=[1.0, 1.0, 1.0, 0.5, 0.5, 0.5, 0.1, 0.1, 0.1],\n",
       "              mask=[False, False, False, False, False, False, False, False,\n",
       "                    False],\n",
       "        fill_value='?',\n",
       "             dtype=object),\n",
       " 'param_clf__n_estimators': masked_array(data=[30, 50, 70, 30, 50, 70, 30, 50, 70],\n",
       "              mask=[False, False, False, False, False, False, False, False,\n",
       "                    False],\n",
       "        fill_value='?',\n",
       "             dtype=object),\n",
       " 'params': [{'clf__learning_rate': 1.0, 'clf__n_estimators': 30},\n",
       "  {'clf__learning_rate': 1.0, 'clf__n_estimators': 50},\n",
       "  {'clf__learning_rate': 1.0, 'clf__n_estimators': 70},\n",
       "  {'clf__learning_rate': 0.5, 'clf__n_estimators': 30},\n",
       "  {'clf__learning_rate': 0.5, 'clf__n_estimators': 50},\n",
       "  {'clf__learning_rate': 0.5, 'clf__n_estimators': 70},\n",
       "  {'clf__learning_rate': 0.1, 'clf__n_estimators': 30},\n",
       "  {'clf__learning_rate': 0.1, 'clf__n_estimators': 50},\n",
       "  {'clf__learning_rate': 0.1, 'clf__n_estimators': 70}],\n",
       " 'split0_test_score': array([0.62556561, 0.64188752, 0.55696509, 0.64754363, 0.64503878,\n",
       "        0.64810924, 0.56447964, 0.60585003, 0.62540401]),\n",
       " 'split1_test_score': array([0.61535354, 0.61882828, 0.59272727, 0.66165657, 0.6740202 ,\n",
       "        0.66618182, 0.55587879, 0.60242424, 0.62424242]),\n",
       " 'split2_test_score': array([0.63329293, 0.61115152, 0.60436364, 0.65406061, 0.65907071,\n",
       "        0.66327273, 0.53745455, 0.59046465, 0.62933333]),\n",
       " 'mean_test_score': array([0.62473736, 0.62395577, 0.58468533, 0.65442027, 0.65937656,\n",
       "        0.65918793, 0.55260432, 0.59957964, 0.62632659]),\n",
       " 'std_test_score': array([0.00734711, 0.01306124, 0.02016862, 0.00576719, 0.01183359,\n",
       "        0.00792333, 0.01127329, 0.00659527, 0.00217833]),\n",
       " 'rank_test_score': array([5, 6, 8, 3, 1, 2, 9, 7, 4]),\n",
       " 'split0_train_score': array([0.62949495, 0.64937374, 0.56747475, 0.65385859, 0.65357576,\n",
       "        0.65345455, 0.56985859, 0.61159596, 0.6300202 ]),\n",
       " 'split1_train_score': array([0.61795483, 0.62450002, 0.59799604, 0.66130661, 0.67229607,\n",
       "        0.66595289, 0.55767444, 0.60244031, 0.6258737 ]),\n",
       " 'split2_train_score': array([0.63346935, 0.61221769, 0.60357157, 0.65823603, 0.66732657,\n",
       "        0.66171064, 0.53428144, 0.59023878, 0.62712618]),\n",
       " 'mean_train_score': array([0.62697304, 0.62869715, 0.58968079, 0.65780041, 0.66439947,\n",
       "        0.66037269, 0.55393816, 0.60142501, 0.62767336]),\n",
       " 'std_train_score': array([0.00658003, 0.0154565 , 0.01586616, 0.00305621, 0.00791785,\n",
       "        0.0051894 , 0.01476264, 0.00874854, 0.00173646])}"
      ]
     },
     "execution_count": 66,
     "metadata": {},
     "output_type": "execute_result"
    }
   ],
   "source": [
    "# Your code here \n",
    "gs_ab.cv_results_"
   ]
  },
  {
   "cell_type": "markdown",
   "metadata": {},
   "source": [
    "### Level-up (Optional): SVM pipeline with grid search \n",
    "\n",
    "As extra level-up work, construct a pipeline with grid search for support vector machines. \n",
    "* Make sure your grid isn't too big. You'll see it takes quite a while to fit SVMs with non-linear kernel functions!"
   ]
  },
  {
   "cell_type": "code",
   "execution_count": null,
   "metadata": {},
   "outputs": [],
   "source": [
    "# Your code here\n",
    "# ⏰ This cell may take a very long time to run!\n",
    "pipe_svm = Pipeline([('pca', PCA(n_components=27)), \n",
    "                     ('clf', svm.SVC(random_state=123))])\n",
    "\n",
    "# Set grid search params\n",
    "param_grid_svm = [\n",
    "  {'clf__C': [0.1, 1, 10] , 'clf__kernel': ['linear']},\n",
    "  {'clf__C': [1, 10], 'clf__gamma': [0.001, 0.01], 'clf__kernel': ['rbf']},\n",
    " ]\n",
    "\n",
    "# Construct grid search\n",
    "gs_svm = GridSearchCV(estimator=pipe_svm, \n",
    "                      param_grid=param_grid_svm, \n",
    "                      scoring='accuracy', \n",
    "                      cv=3, verbose=2, return_train_score = True)\n",
    "\n",
    "# Fit using grid search\n",
    "gs_svm.fit(X_train, y_train)\n",
    "\n",
    "# Best accuracy\n",
    "print('Best accuracy: %.3f' % gs_svm.best_score_)\n",
    "\n",
    "# Best params\n",
    "print('\\nBest params:\\n', gs_svm.best_params_)"
   ]
  },
  {
   "cell_type": "markdown",
   "metadata": {},
   "source": [
    "Use your grid search object along with `.cv_results` to get the full result overview: "
   ]
  },
  {
   "cell_type": "code",
   "execution_count": null,
   "metadata": {},
   "outputs": [],
   "source": [
    "# Your code here \n",
    "gs_svm.cv_results_"
   ]
  },
  {
   "cell_type": "markdown",
   "metadata": {},
   "source": [
    "## Note\n",
    "\n",
    "Note that this solution is only one of many options. The results in the Random Forest and AdaBoost models show that there is a lot of improvement possible by tuning the hyperparameters further, so make sure to explore this yourself!"
   ]
  },
  {
   "cell_type": "markdown",
   "metadata": {},
   "source": [
    "## Summary \n",
    "\n",
    "Great! You've gotten a lot of practice in using PCA in pipelines. What algorithm would you choose and why?"
   ]
  }
 ],
 "metadata": {
  "kernelspec": {
   "display_name": "learn-env",
   "language": "python",
   "name": "learn-env"
  },
  "language_info": {
   "codemirror_mode": {
    "name": "ipython",
    "version": 3
   },
   "file_extension": ".py",
   "mimetype": "text/x-python",
   "name": "python",
   "nbconvert_exporter": "python",
   "pygments_lexer": "ipython3",
   "version": "3.6.9"
  },
  "toc": {
   "base_numbering": 1,
   "nav_menu": {},
   "number_sections": true,
   "sideBar": true,
   "skip_h1_title": false,
   "title_cell": "Table of Contents",
   "title_sidebar": "Contents",
   "toc_cell": false,
   "toc_position": {},
   "toc_section_display": true,
   "toc_window_display": false
  }
 },
 "nbformat": 4,
 "nbformat_minor": 2
}
